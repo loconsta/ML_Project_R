{
 "cells": [
  {
   "cell_type": "markdown",
   "metadata": {},
   "source": [
    "# Regression model\n",
    "## Exploratory Phase"
   ]
  },
  {
   "cell_type": "code",
   "execution_count": 1,
   "metadata": {},
   "outputs": [
    {
     "name": "stdout",
     "output_type": "stream",
     "text": [
      "'data.frame':\t708 obs. of  4872 variables:\n",
      " $ Intensity             : Factor w/ 2 levels \"high\",\"low\": 2 1 1 1 2 1 2 2 2 2 ...\n",
      " $ VALENCE.PLEASANTNESS  : int  45 49 56 7 51 21 56 52 53 1 ...\n",
      " $ SWEETORSOUR           : logi  FALSE TRUE TRUE FALSE FALSE FALSE ...\n",
      " $ complexity.from.pubmed: num  302 72.6 259 56.6 84.7 160 116 25 355 68.4 ...\n",
      " $ MW                    : num  208.3 122.2 242.3 88.1 136.2 ...\n",
      " $ AMW                   : num  5.95 6.43 7.57 6.29 6.19 ...\n",
      " $ Sv                    : num  19.7 11.35 20.83 7.54 12.88 ...\n",
      " $ Se                    : num  34.5 18.7 32.2 14.2 21.6 ...\n",
      " $ Sp                    : num  21.52 12.26 21.69 7.96 14.02 ...\n",
      " $ Si                    : num  39.6 21.3 35.5 16.1 24.7 ...\n",
      " $ Mv                    : num  0.563 0.597 0.651 0.538 0.585 0.588 0.667 0.49 0.609 0.619 ...\n",
      " $ Me                    : num  0.985 0.987 1.005 1.014 0.983 ...\n",
      " $ Mp                    : num  0.615 0.645 0.678 0.568 0.637 0.633 0.707 0.571 0.618 0.703 ...\n",
      " $ Mi                    : num  1.13 1.12 1.11 1.15 1.12 ...\n",
      " $ nAT                   : int  35 19 32 14 22 30 23 26 35 16 ...\n",
      " $ nSK                   : int  15 9 18 6 10 14 13 8 19 8 ...\n",
      " $ nBT                   : int  36 19 33 13 22 30 24 25 35 16 ...\n",
      " $ nBO                   : int  16 9 19 5 10 14 14 7 19 8 ...\n",
      " $ nBM                   : int  2 6 13 1 6 7 12 0 10 0 ...\n",
      " $ SCBO                  : num  18 12 26 6 13 18 20 7 26 8 ...\n",
      " $ RBN                   : int  4 1 5 1 2 6 2 5 4 0 ...\n",
      " $ RBF                   : num  0.111 0.053 0.152 0.077 0.091 0.2 0.083 0.2 0.114 0 ...\n",
      " $ nDB                   : int  2 0 1 1 0 1 0 0 4 0 ...\n",
      " $ nTB                   : int  0 0 0 0 0 0 0 0 0 0 ...\n",
      " $ nAB                   : int  0 6 12 0 6 6 12 0 6 0 ...\n",
      " $ nH                    : int  20 10 14 8 12 16 10 18 16 8 ...\n",
      " $ nC                    : int  13 8 15 4 9 12 12 8 12 4 ...\n",
      " $ nN                    : int  0 0 0 0 0 0 0 0 2 0 ...\n",
      " $ nO                    : int  2 1 3 2 1 2 1 0 5 2 ...\n",
      " $ nP                    : int  0 0 0 0 0 0 0 0 0 0 ...\n",
      " $ nS                    : int  0 0 0 0 0 0 0 0 0 2 ...\n",
      " $ nF                    : int  0 0 0 0 0 0 0 0 0 0 ...\n",
      " $ nCL                   : int  0 0 0 0 0 0 0 0 0 0 ...\n",
      " $ nBR                   : int  0 0 0 0 0 0 0 0 0 0 ...\n",
      " $ nI                    : int  0 0 0 0 0 0 0 0 0 0 ...\n",
      " $ nB                    : int  0 0 0 0 0 0 0 0 0 0 ...\n",
      " $ nHM                   : int  0 0 0 0 0 0 0 0 0 2 ...\n",
      " $ nHet                  : int  2 1 3 2 1 2 1 0 7 4 ...\n",
      " $ nX                    : int  0 0 0 0 0 0 0 0 0 0 ...\n",
      " $ H.                    : num  57.1 52.6 43.8 57.1 54.5 53.3 43.5 69.2 45.7 50 ...\n",
      " $ C.                    : num  37.1 42.1 46.9 28.6 40.9 40 52.2 30.8 34.3 25 ...\n",
      " $ N.                    : num  0 0 0 0 0 0 0 0 5.7 0 ...\n",
      " $ O.                    : num  5.7 5.3 9.4 14.3 4.5 6.7 4.3 0 14.3 12.5 ...\n",
      " $ X.                    : int  0 0 0 0 0 0 0 0 0 0 ...\n",
      " $ nCsp3                 : int  10 2 2 3 3 5 0 8 6 4 ...\n",
      " $ nCsp2                 : int  3 6 13 1 6 7 12 0 6 0 ...\n",
      " $ nCsp                  : int  0 0 0 0 0 0 0 0 0 0 ...\n",
      " $ nCIC                  : int  2 1 2 0 1 1 2 0 1 1 ...\n",
      " $ nCIR                  : int  3 1 2 0 1 1 2 0 1 1 ...\n",
      " $ TRS                   : int  10 6 12 0 6 6 12 0 6 6 ...\n",
      " $ Rperim                : int  6 6 12 0 6 6 12 0 6 6 ...\n",
      " $ Rbrid                 : int  2 0 0 0 0 0 0 0 0 0 ...\n",
      " $ MCD                   : num  0.467 0.667 0.667 0 0.6 0.429 0.923 0 0.316 0.75 ...\n",
      " $ RFD                   : num  0.571 0 0 0 0 0 0 0 0 0 ...\n",
      " $ RCI                   : num  1.43 1 1 0 1 ...\n",
      " $ NRS                   : int  1 1 2 0 1 1 2 0 1 1 ...\n",
      " $ NNRS                  : num  0.5 1 1 0 1 1 1 0 1 1 ...\n",
      " $ nR03                  : int  0 0 0 0 0 0 0 0 0 0 ...\n",
      " $ nR04                  : int  1 0 0 0 0 0 0 0 0 0 ...\n",
      " $ nR05                  : int  0 0 0 0 0 0 0 0 0 0 ...\n",
      " $ nR06                  : int  2 1 2 0 1 1 2 0 1 1 ...\n",
      " $ nR07                  : int  0 0 0 0 0 0 0 0 0 0 ...\n",
      " $ nR08                  : int  0 0 0 0 0 0 0 0 0 0 ...\n",
      " $ nR09                  : int  0 0 0 0 0 0 0 0 0 0 ...\n",
      " $ nR10                  : int  0 0 0 0 0 0 0 0 0 0 ...\n",
      " $ nR11                  : int  0 0 0 0 0 0 0 0 0 0 ...\n",
      " $ nR12                  : int  0 0 0 0 0 0 0 0 0 0 ...\n",
      " $ nBnz                  : int  0 1 2 0 1 1 2 0 1 0 ...\n",
      " $ ARR                   : num  0 0.667 0.632 0 0.6 0.429 0.857 0 0.316 0 ...\n",
      " $ D.Dtr03               : num  0 0 0 0 0 0 0 0 0 0 ...\n",
      " $ D.Dtr04               : num  29.1 0 0 0 0 ...\n",
      " $ D.Dtr05               : num  0 0 0 0 0 0 0 0 0 0 ...\n",
      " $ D.Dtr06               : num  92.8 26.3 125.3 0 31.1 ...\n",
      " $ D.Dtr07               : num  0 0 0 0 0 0 0 0 0 0 ...\n",
      " $ D.Dtr08               : int  0 0 0 0 0 0 0 0 0 0 ...\n",
      " $ D.Dtr09               : num  0 0 0 0 0 0 0 0 0 0 ...\n",
      " $ D.Dtr10               : num  0 0 0 0 0 0 0 0 0 0 ...\n",
      " $ D.Dtr11               : int  0 0 0 0 0 0 0 0 0 0 ...\n",
      " $ D.Dtr12               : int  0 0 0 0 0 0 0 0 0 0 ...\n",
      " $ ZM1                   : int  80 40 86 22 44 60 62 26 96 36 ...\n",
      " $ ZM1V                  : int  166 106 258 88 100 166 158 26 340 148 ...\n",
      " $ ZM1Kup                : num  189 118 293 108 108 ...\n",
      " $ ZM1Mad                : num  85.9 42.9 95.4 26.4 46.1 ...\n",
      " $ ZM1Per                : num  236 151 368 116 142 ...\n",
      " $ ZM1MulPer             : num  177.6 112.4 275.2 99.3 107.2 ...\n",
      " $ ZM2                   : int  95 43 96 21 48 63 68 24 113 38 ...\n",
      " $ ZM2V                  : int  156 100 245 62 95 146 168 24 310 102 ...\n",
      " $ ZM2Kup                : num  165.1 104.5 260.5 68.7 97.3 ...\n",
      " $ ZM2Mad                : num  99 45.7 104.7 24.3 50 ...\n",
      " $ ZM2Per                : num  241.4 151.4 375.7 92.5 143.4 ...\n",
      " $ ZM2MulPer             : num  167 109.5 262.2 68.4 100.5 ...\n",
      " $ ON0                   : num  8.58 5.17 9.33 4.67 5.67 ...\n",
      " $ ON0V                  : num  7.08 4 6 2.95 3.95 ...\n",
      " $ ON1                   : num  3.19 2.17 4.19 1.44 2.44 ...\n",
      " $ ON1V                  : num  2.292 1.014 1.757 0.842 1.428 ...\n",
      " $ Qindex                : int  13 5 10 2 5 5 8 0 13 5 ...\n",
      " $ BBI                   : int  24 11 24 6 12 16 17 6 29 10 ...\n",
      " $ DBI                   : num  3.24 1.41 2.74 2.45 2.12 ...\n",
      " $ SNar                  : num  9.94 5.66 12.71 2.2 6.36 ...\n",
      "  [list output truncated]\n"
     ]
    }
   ],
   "source": [
    "data <- read.csv(file.path(\"..\", \"data\", \"training_data.csv\"))\n",
    "data <- na.omit(data)\n",
    "str(data)"
   ]
  },
  {
   "cell_type": "markdown",
   "metadata": {},
   "source": [
    "There are 708 observations (n) of 4872 variables (p) (numerical and categorical) in the data set."
   ]
  },
  {
   "cell_type": "code",
   "execution_count": 2,
   "metadata": {},
   "outputs": [
    {
     "data": {
      "text/html": [
       "0"
      ],
      "text/latex": [
       "0"
      ],
      "text/markdown": [
       "0"
      ],
      "text/plain": [
       "[1] 0"
      ]
     },
     "metadata": {},
     "output_type": "display_data"
    },
    {
     "data": {
      "text/html": [
       "98"
      ],
      "text/latex": [
       "98"
      ],
      "text/markdown": [
       "98"
      ],
      "text/plain": [
       "[1] 98"
      ]
     },
     "metadata": {},
     "output_type": "display_data"
    }
   ],
   "source": [
    "min(data$VALENCE.PLEASANTNESS)\n",
    "max(data$VALENCE.PLEASANTNESS)"
   ]
  },
  {
   "cell_type": "markdown",
   "metadata": {},
   "source": [
    "The pleasantness seems to correspond to a grade from 0 to 100.\n",
    "\n",
    "We will rename the response and transform the 'Intensity' predictor to numerical values for simplicity. We do not need 'SWEETORSOUR' as it is the response we do not want to predict here."
   ]
  },
  {
   "cell_type": "code",
   "execution_count": 3,
   "metadata": {},
   "outputs": [],
   "source": [
    "data$PL <- data$VALENCE.PLEASANTNESS\n",
    "data$VALENCE.PLEASANTNESS <- NULL\n",
    "data$Intensity <- as.numeric(data$Intensity)\n",
    "data$SWEETORSOUR <- NULL"
   ]
  },
  {
   "cell_type": "markdown",
   "metadata": {},
   "source": [
    "We plot an histogram to see how the response is distributed."
   ]
  },
  {
   "cell_type": "code",
   "execution_count": 4,
   "metadata": {},
   "outputs": [
    {
     "data": {
      "image/png": "[encoded data removed]",
      "text/plain": [
       "Plot with title \"Histogram of pleasantness grades distribution\""
      ]
     },
     "metadata": {
      "image/png": {
       "height": 420,
       "width": 420
      }
     },
     "output_type": "display_data"
    }
   ],
   "source": [
    "hist(data$PL, main = 'Histogram of pleasantness grades distribution',xlab = 'Pleasantness grade', ylab = 'Number of people', col = 'orange')"
   ]
  },
  {
   "cell_type": "markdown",
   "metadata": {},
   "source": [
    "The response seems to respect gaussian distribution with the exception that an important proportion of the population systematically gives bad grades for some underlying reason. This might be linked to genetic markers."
   ]
  },
  {
   "cell_type": "markdown",
   "metadata": {},
   "source": [
    "We also want to keep only predictors that have different values throughout the observations (only these are useful to predict), so we check for existence of variance."
   ]
  },
  {
   "cell_type": "code",
   "execution_count": 5,
   "metadata": {},
   "outputs": [
    {
     "data": {
      "text/html": [
       "<style>\n",
       ".list-inline {list-style: none; margin:0; padding: 0}\n",
       ".list-inline>li {display: inline-block}\n",
       ".list-inline>li:not(:last-child)::after {content: \"\\00b7\"; padding: 0 .5ex}\n",
       "</style>\n",
       "<ol class=list-inline><li>708</li><li>3029</li></ol>\n"
      ],
      "text/latex": [
       "\\begin{enumerate*}\n",
       "\\item 708\n",
       "\\item 3029\n",
       "\\end{enumerate*}\n"
      ],
      "text/markdown": [
       "1. 708\n",
       "2. 3029\n",
       "\n",
       "\n"
      ],
      "text/plain": [
       "[1]  708 3029"
      ]
     },
     "metadata": {},
     "output_type": "display_data"
    }
   ],
   "source": [
    "cols = names(data[, sapply(data, function(v) var(v) != 0)])\n",
    "data <- data[,cols]\n",
    "dim(data)"
   ]
  },
  {
   "cell_type": "markdown",
   "metadata": {},
   "source": [
    "We can see that among the 4872 initial variables, there are only 3029 left, meaning 3028 predictors to estimate the response."
   ]
  },
  {
   "cell_type": "code",
   "execution_count": 6,
   "metadata": {},
   "outputs": [
    {
     "data": {
      "image/png": "[encoded data removed]",
      "text/plain": [
       "plot without title"
      ]
     },
     "metadata": {
      "image/png": {
       "height": 420,
       "width": 420
      }
     },
     "output_type": "display_data"
    }
   ],
   "source": [
    "pairs(data[,1:10])"
   ]
  },
  {
   "cell_type": "markdown",
   "metadata": {},
   "source": [
    "By comparing some data, we can already notice some linear dependencies. "
   ]
  }
 ],
 "metadata": {
  "kernelspec": {
   "display_name": "R",
   "language": "R",
   "name": "ir"
  },
  "language_info": {
   "codemirror_mode": "r",
   "file_extension": ".r",
   "mimetype": "text/x-r-source",
   "name": "R",
   "pygments_lexer": "r",
   "version": "3.6.3"
  }
 },
 "nbformat": 4,
 "nbformat_minor": 4
}
