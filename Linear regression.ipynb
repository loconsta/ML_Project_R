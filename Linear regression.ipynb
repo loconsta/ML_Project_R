{
 "cells": [
  {
   "cell_type": "markdown",
   "metadata": {},
   "source": [
    "# Linear regression\n",
    "\n",
    "We sort the data as previously done."
   ]
  },
  {
   "cell_type": "code",
   "execution_count": 1,
   "metadata": {},
   "outputs": [],
   "source": [
    "set.seed(1)\n",
    "data <- read.csv(file.path(\"..\", \"data\", \"training_data.csv\"))\n",
    "data <- na.omit(data)\n",
    "data$PL <- data$VALENCE.PLEASANTNESS\n",
    "data$VALENCE.PLEASANTNESS <- NULL\n",
    "data$SWEETORSOUR <- NULL\n",
    "data$Intensity <- as.numeric(data$Intensity)"
   ]
  },
  {
   "cell_type": "code",
   "execution_count": 2,
   "metadata": {},
   "outputs": [
    {
     "data": {
      "text/html": [
       "<style>\n",
       ".list-inline {list-style: none; margin:0; padding: 0}\n",
       ".list-inline>li {display: inline-block}\n",
       ".list-inline>li:not(:last-child)::after {content: \"\\00b7\"; padding: 0 .5ex}\n",
       "</style>\n",
       "<ol class=list-inline><li>708</li><li>3029</li></ol>\n"
      ],
      "text/latex": [
       "\\begin{enumerate*}\n",
       "\\item 708\n",
       "\\item 3029\n",
       "\\end{enumerate*}\n"
      ],
      "text/markdown": [
       "1. 708\n",
       "2. 3029\n",
       "\n",
       "\n"
      ],
      "text/plain": [
       "[1]  708 3029"
      ]
     },
     "metadata": {},
     "output_type": "display_data"
    }
   ],
   "source": [
    "cols = names(data[, sapply(data, function(v) var(v) != 0)])\n",
    "data <- data[,cols]\n",
    "dim(data)"
   ]
  },
  {
   "cell_type": "markdown",
   "metadata": {},
   "source": [
    "As the number of predictors is big (and far greater than the number of observation), we can predict that multiple linear regression model without any restriction will give really bad predictions, but we will try it to have a starting point.\n",
    "\n",
    "We create train set and validation sets in both matrix and data.frame formats."
   ]
  },
  {
   "cell_type": "code",
   "execution_count": 3,
   "metadata": {},
   "outputs": [
    {
     "data": {
      "text/html": [
       "<style>\n",
       ".list-inline {list-style: none; margin:0; padding: 0}\n",
       ".list-inline>li {display: inline-block}\n",
       ".list-inline>li:not(:last-child)::after {content: \"\\00b7\"; padding: 0 .5ex}\n",
       "</style>\n",
       "<ol class=list-inline><li>566</li><li>3028</li></ol>\n"
      ],
      "text/latex": [
       "\\begin{enumerate*}\n",
       "\\item 566\n",
       "\\item 3028\n",
       "\\end{enumerate*}\n"
      ],
      "text/markdown": [
       "1. 566\n",
       "2. 3028\n",
       "\n",
       "\n"
      ],
      "text/plain": [
       "[1]  566 3028"
      ]
     },
     "metadata": {},
     "output_type": "display_data"
    },
    {
     "data": {
      "text/html": [
       "<style>\n",
       ".list-inline {list-style: none; margin:0; padding: 0}\n",
       ".list-inline>li {display: inline-block}\n",
       ".list-inline>li:not(:last-child)::after {content: \"\\00b7\"; padding: 0 .5ex}\n",
       "</style>\n",
       "<ol class=list-inline><li>142</li><li>3028</li></ol>\n"
      ],
      "text/latex": [
       "\\begin{enumerate*}\n",
       "\\item 142\n",
       "\\item 3028\n",
       "\\end{enumerate*}\n"
      ],
      "text/markdown": [
       "1. 142\n",
       "2. 3028\n",
       "\n",
       "\n"
      ],
      "text/plain": [
       "[1]  142 3028"
      ]
     },
     "metadata": {},
     "output_type": "display_data"
    },
    {
     "data": {
      "text/html": [
       "566"
      ],
      "text/latex": [
       "566"
      ],
      "text/markdown": [
       "566"
      ],
      "text/plain": [
       "[1] 566"
      ]
     },
     "metadata": {},
     "output_type": "display_data"
    },
    {
     "data": {
      "text/html": [
       "142"
      ],
      "text/latex": [
       "142"
      ],
      "text/markdown": [
       "142"
      ],
      "text/plain": [
       "[1] 142"
      ]
     },
     "metadata": {},
     "output_type": "display_data"
    },
    {
     "data": {
      "text/html": [
       "<style>\n",
       ".list-inline {list-style: none; margin:0; padding: 0}\n",
       ".list-inline>li {display: inline-block}\n",
       ".list-inline>li:not(:last-child)::after {content: \"\\00b7\"; padding: 0 .5ex}\n",
       "</style>\n",
       "<ol class=list-inline><li>566</li><li>3029</li></ol>\n"
      ],
      "text/latex": [
       "\\begin{enumerate*}\n",
       "\\item 566\n",
       "\\item 3029\n",
       "\\end{enumerate*}\n"
      ],
      "text/markdown": [
       "1. 566\n",
       "2. 3029\n",
       "\n",
       "\n"
      ],
      "text/plain": [
       "[1]  566 3029"
      ]
     },
     "metadata": {},
     "output_type": "display_data"
    },
    {
     "data": {
      "text/html": [
       "<style>\n",
       ".list-inline {list-style: none; margin:0; padding: 0}\n",
       ".list-inline>li {display: inline-block}\n",
       ".list-inline>li:not(:last-child)::after {content: \"\\00b7\"; padding: 0 .5ex}\n",
       "</style>\n",
       "<ol class=list-inline><li>142</li><li>3029</li></ol>\n"
      ],
      "text/latex": [
       "\\begin{enumerate*}\n",
       "\\item 142\n",
       "\\item 3029\n",
       "\\end{enumerate*}\n"
      ],
      "text/markdown": [
       "1. 142\n",
       "2. 3029\n",
       "\n",
       "\n"
      ],
      "text/plain": [
       "[1]  142 3029"
      ]
     },
     "metadata": {},
     "output_type": "display_data"
    }
   ],
   "source": [
    "idx <- sample(nrow(data), 4*nrow(data)/5)\n",
    "#matrix\n",
    "train.x <- data[idx,]\n",
    "train.x$PL <- NULL\n",
    "train.x <- as.matrix(train.x)\n",
    "train.y <- data$PL[idx]\n",
    "\n",
    "test.x <- data[-idx,]\n",
    "test.x$PL <- NULL\n",
    "test.x <- as.matrix(test.x)\n",
    "test.y <- data$PL[-idx]\n",
    "\n",
    "#data.frame\n",
    "train.set = data[idx,]\n",
    "test.set = data[-idx,]\n",
    "\n",
    "dim(train.x)\n",
    "dim(test.x)\n",
    "length(train.y)\n",
    "length(test.y)\n",
    "\n",
    "dim(train.set)\n",
    "dim(test.set)"
   ]
  },
  {
   "cell_type": "code",
   "execution_count": 4,
   "metadata": {},
   "outputs": [],
   "source": [
    "lin.fit <- lm(PL ~ ., train.set)"
   ]
  },
  {
   "cell_type": "code",
   "execution_count": 5,
   "metadata": {},
   "outputs": [
    {
     "name": "stderr",
     "output_type": "stream",
     "text": [
      "Warning message in predict.lm(lin.fit, test.set):\n",
      "\"prediction from a rank-deficient fit may be misleading\"\n"
     ]
    },
    {
     "data": {
      "text/html": [
       "<span style=white-space:pre-wrap>'MSE =  1884252.78024588'</span>"
      ],
      "text/latex": [
       "'MSE =  1884252.78024588'"
      ],
      "text/markdown": [
       "<span style=white-space:pre-wrap>'MSE =  1884252.78024588'</span>"
      ],
      "text/plain": [
       "[1] \"MSE =  1884252.78024588\""
      ]
     },
     "metadata": {},
     "output_type": "display_data"
    },
    {
     "data": {
      "text/html": [
       "<span style=white-space:pre-wrap>'adjusted $R^2$ low:  0.290215455279898'</span>"
      ],
      "text/latex": [
       "'adjusted \\$R\\textasciicircum{}2\\$ low:  0.290215455279898'"
      ],
      "text/markdown": [
       "<span style=white-space:pre-wrap>'adjusted $R^2$ low:  0.290215455279898'</span>"
      ],
      "text/plain": [
       "[1] \"adjusted $R^2$ low:  0.290215455279898\""
      ]
     },
     "metadata": {},
     "output_type": "display_data"
    }
   ],
   "source": [
    "y.pred <- predict(lin.fit, test.set)\n",
    "lm.MSE <- mean((y.pred - test.set$PL)^2)\n",
    "paste('MSE = ',lm.MSE)\n",
    "paste('adjusted $R^2$ low: ', summary(lin.fit)$adj.r.squared)"
   ]
  },
  {
   "cell_type": "code",
   "execution_count": 6,
   "metadata": {},
   "outputs": [
    {
     "data": {
      "text/html": [
       "-8426.51978149265"
      ],
      "text/latex": [
       "-8426.51978149265"
      ],
      "text/markdown": [
       "-8426.51978149265"
      ],
      "text/plain": [
       "[1] -8426.52"
      ]
     },
     "metadata": {},
     "output_type": "display_data"
    },
    {
     "data": {
      "text/html": [
       "5187.02400959283"
      ],
      "text/latex": [
       "5187.02400959283"
      ],
      "text/markdown": [
       "5187.02400959283"
      ],
      "text/plain": [
       "[1] 5187.024"
      ]
     },
     "metadata": {},
     "output_type": "display_data"
    },
    {
     "data": {
      "text/html": [
       "0"
      ],
      "text/latex": [
       "0"
      ],
      "text/markdown": [
       "0"
      ],
      "text/plain": [
       "[1] 0"
      ]
     },
     "metadata": {},
     "output_type": "display_data"
    },
    {
     "data": {
      "text/html": [
       "96"
      ],
      "text/latex": [
       "96"
      ],
      "text/markdown": [
       "96"
      ],
      "text/plain": [
       "[1] 96"
      ]
     },
     "metadata": {},
     "output_type": "display_data"
    }
   ],
   "source": [
    "min(y.pred)\n",
    "max(y.pred)\n",
    "min(test.set$PL)\n",
    "max(test.set$PL)"
   ]
  },
  {
   "cell_type": "markdown",
   "metadata": {},
   "source": [
    "As we could expect with so many predictors, the multiple linear regression (with all predictors) is terrible, with outliers going far outside the grade range.\n",
    "\n",
    "# Lasso regularization (cross-validation)\n",
    "\n",
    "We can try linear regression with lasso (L1/2) regularization to drop predictors that create such outliers.\n",
    "\n",
    "Let's first look at the evolution of coefficient for different lambda values:"
   ]
  },
  {
   "cell_type": "code",
   "execution_count": 7,
   "metadata": {},
   "outputs": [
    {
     "name": "stderr",
     "output_type": "stream",
     "text": [
      "Loading required package: Matrix\n",
      "\n",
      "Loading required package: foreach\n",
      "\n",
      "Loaded glmnet 2.0-16\n",
      "\n",
      "\n"
     ]
    },
    {
     "data": {
      "image/png": "iVBORw0KGgoAAAANSUhEUgAAA0gAAANICAMAAADKOT/pAAAAP1BMVEUAAAAAAP8AzQAA//9N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\nAARAJAABEAlAAEQCEOB/kPRGlFSAiJgAAAAASUVORK5CYII=",
      "text/plain": [
       "plot without title"
      ]
     },
     "metadata": {
      "image/png": {
       "height": 420,
       "width": 420
      }
     },
     "output_type": "display_data"
    }
   ],
   "source": [
    "library(glmnet)\n",
    "lasso1.mod <- glmnet(train.x, train.y, alpha = 1, lambda = 10^seq(0.5, -3, length = 100))\n",
    "plot(lasso1.mod, \"lambda\", xlab = parse(text = \"Log(lambda)\"))"
   ]
  },
  {
   "cell_type": "markdown",
   "metadata": {},
   "source": [
    "We can find the best lambda value by cross-validation:"
   ]
  },
  {
   "cell_type": "code",
   "execution_count": 8,
   "metadata": {},
   "outputs": [
    {
     "data": {
      "image/png": "iVBORw0KGgoAAAANSUhEUgAAA0gAAANICAMAAADKOT/pAAAANlBMVEUAAABNTU1oaGh8fHyM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\nAAT8D8EPI4JqBpHGAAAAAElFTkSuQmCC",
      "text/plain": [
       "plot without title"
      ]
     },
     "metadata": {
      "image/png": {
       "height": 420,
       "width": 420
      }
     },
     "output_type": "display_data"
    }
   ],
   "source": [
    "cv.lasso1 <- cv.glmnet(train.x, train.y, alpha = 1, nfold = 10)\n",
    "plot(cv.lasso1)"
   ]
  },
  {
   "cell_type": "markdown",
   "metadata": {},
   "source": [
    "Now we find the best coefficients (around 50) for linear regression given by lasso (L1):"
   ]
  },
  {
   "cell_type": "code",
   "execution_count": 9,
   "metadata": {},
   "outputs": [],
   "source": [
    "best.lasso1 <- glmnet(train.x, train.y, alpha = 1, lambda = cv.lasso1$lambda.min)"
   ]
  },
  {
   "cell_type": "code",
   "execution_count": 11,
   "metadata": {},
   "outputs": [
    {
     "data": {
      "text/html": [
       "'Number of non-zero predictors : 52'"
      ],
      "text/latex": [
       "'Number of non-zero predictors : 52'"
      ],
      "text/markdown": [
       "'Number of non-zero predictors : 52'"
      ],
      "text/plain": [
       "[1] \"Number of non-zero predictors : 52\""
      ]
     },
     "metadata": {},
     "output_type": "display_data"
    },
    {
     "data": {
      "text/html": [
       "<span style=white-space:pre-wrap>'MSE =  476.437721136471'</span>"
      ],
      "text/latex": [
       "'MSE =  476.437721136471'"
      ],
      "text/markdown": [
       "<span style=white-space:pre-wrap>'MSE =  476.437721136471'</span>"
      ],
      "text/plain": [
       "[1] \"MSE =  476.437721136471\""
      ]
     },
     "metadata": {},
     "output_type": "display_data"
    }
   ],
   "source": [
    "paste('Number of non-zero predictors :', best.lasso1$df)\n",
    "\n",
    "y.pred <- predict(cv.lasso1, test.x, s = 'lambda.min')\n",
    "lasso1.MSE <- mean((y.pred - test.y)^2)\n",
    "paste('MSE = ', lasso1.MSE)\n"
   ]
  },
  {
   "cell_type": "markdown",
   "metadata": {},
   "source": [
    "We can see that the use of lasso L1 regularization on the linear model greatly diminishes the MSE. Nevertheless, the predictions remain rather bad."
   ]
  },
  {
   "cell_type": "markdown",
   "metadata": {},
   "source": [
    "Let's plot the fifty first predictions (L1 with lambda = lambda.min):"
   ]
  },
  {
   "cell_type": "code",
   "execution_count": 16,
   "metadata": {},
   "outputs": [
    {
     "data": {
      "image/png": "iVBORw0KGgoAAAANSUhEUgAAA0gAAANICAMAAADKOT/pAAAANlBMVEUAAAAAAP9NTU1oaGh8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",
      "text/plain": [
       "Plot with title \"Fifty first predictions with L1 lasso\""
      ]
     },
     "metadata": {
      "image/png": {
       "height": 420,
       "width": 420
      }
     },
     "output_type": "display_data"
    }
   ],
   "source": [
    "plot(y.pred[1:50], col = 'blue', ylab = 'Grade', pch = 19, ylim = c(0, 120))\n",
    "points(test.y[1:50], col = 'red', pch = 19)\n",
    "title('Fifty first predictions with L1 lasso')\n",
    "for(i in seq(0, 100, 1)) abline(v = i, lty = 'dotted')\n",
    "legend('bottomright', c('Predictions', 'Real values'), col = c('blue', 'red'), pch = 19)"
   ]
  },
  {
   "cell_type": "markdown",
   "metadata": {},
   "source": [
    "It appears (and this is confirmed as a tendency on all predictions) that the predictions are centered around 40 with very little variance compared to the real values."
   ]
  },
  {
   "cell_type": "markdown",
   "metadata": {},
   "source": [
    "(Regularization with lasso L2 was tried and was a bit worse in terms of MSE, without any other notable changes.)"
   ]
  },
  {
   "cell_type": "markdown",
   "metadata": {},
   "source": [
    "## Other approach\n",
    "\n",
    "It can also be interesting to evaluate the lasso MSE with lambda.1se: "
   ]
  },
  {
   "cell_type": "code",
   "execution_count": 12,
   "metadata": {},
   "outputs": [],
   "source": [
    "# lambda.1se -> lambda as large as possible while error is still 1 standard error from its minimum\n",
    "best.lasso1.1se <- glmnet(train.x, train.y, alpha = 1, lambda = cv.lasso1$lambda.1se)"
   ]
  },
  {
   "cell_type": "code",
   "execution_count": 14,
   "metadata": {},
   "outputs": [
    {
     "data": {
      "text/html": [
       "<span style=white-space:pre-wrap>'Number of non-zero predictors (lambda.1se):  5'</span>"
      ],
      "text/latex": [
       "'Number of non-zero predictors (lambda.1se):  5'"
      ],
      "text/markdown": [
       "<span style=white-space:pre-wrap>'Number of non-zero predictors (lambda.1se):  5'</span>"
      ],
      "text/plain": [
       "[1] \"Number of non-zero predictors (lambda.1se):  5\""
      ]
     },
     "metadata": {},
     "output_type": "display_data"
    },
    {
     "data": {
      "text/html": [
       "<span style=white-space:pre-wrap>'MSE =  558.641935305513'</span>"
      ],
      "text/latex": [
       "'MSE =  558.641935305513'"
      ],
      "text/markdown": [
       "<span style=white-space:pre-wrap>'MSE =  558.641935305513'</span>"
      ],
      "text/plain": [
       "[1] \"MSE =  558.641935305513\""
      ]
     },
     "metadata": {},
     "output_type": "display_data"
    }
   ],
   "source": [
    "paste('Number of non-zero predictors (lambda.1se): ', best.lasso1.1se$df)\n",
    "\n",
    "y.pred.1se <- predict(cv.lasso1, test.x, s = 'lambda.1se')\n",
    "lasso1.1se.MSE <- mean((y.pred.1se - test.y)^2)\n",
    "paste('MSE = ', lasso1.1se.MSE)"
   ]
  },
  {
   "cell_type": "markdown",
   "metadata": {},
   "source": [
    "It gives us 5 important predictors. As expected, the MSE is higher than with lambda.min. "
   ]
  },
  {
   "cell_type": "code",
   "execution_count": null,
   "metadata": {},
   "outputs": [],
   "source": [
    "best.lasso1.1se$beta"
   ]
  },
  {
   "cell_type": "markdown",
   "metadata": {},
   "source": [
    "Linear fit with the 5 predictors found with lasso L1, lambda.1se, without regularization of these predictors: "
   ]
  },
  {
   "cell_type": "code",
   "execution_count": 22,
   "metadata": {},
   "outputs": [
    {
     "data": {
      "text/html": [
       "<span style=white-space:pre-wrap>'MSE =  538.553863861681'</span>"
      ],
      "text/latex": [
       "'MSE =  538.553863861681'"
      ],
      "text/markdown": [
       "<span style=white-space:pre-wrap>'MSE =  538.553863861681'</span>"
      ],
      "text/plain": [
       "[1] \"MSE =  538.553863861681\""
      ]
     },
     "metadata": {},
     "output_type": "display_data"
    },
    {
     "data": {
      "text/html": [
       "<span style=white-space:pre-wrap>'Adjusted $R^2$ is very low:  0.103436500532928'</span>"
      ],
      "text/latex": [
       "'Adjusted \\$R\\textasciicircum{}2\\$ is very low:  0.103436500532928'"
      ],
      "text/markdown": [
       "<span style=white-space:pre-wrap>'Adjusted $R^2$ is very low:  0.103436500532928'</span>"
      ],
      "text/plain": [
       "[1] \"Adjusted $R^2$ is very low:  0.103436500532928\""
      ]
     },
     "metadata": {},
     "output_type": "display_data"
    }
   ],
   "source": [
    "fit <- lm(PL ~  JGI6 + Eig05_EA.dm. + Eig08_EA.ri. + B02.C.S. + F04.C.S. ,train.set)\n",
    "\n",
    "y.pred <- predict(fit, test.set)\n",
    "lm.MSE.5pred <- mean((y.pred - test.set$PL)^2)\n",
    "paste('MSE = ',lm.MSE.5pred )\n",
    "\n",
    "paste(\"Adjusted $R^2$ is very low: \", summary(fit)$adj.r.squared) "
   ]
  },
  {
   "cell_type": "markdown",
   "metadata": {},
   "source": [
    "The MSE is much lower than for linear model with all the predictors, but the explained variance is terrible. As expected, the better we can do as a linear model is when using Lasso regularization."
   ]
  },
  {
   "cell_type": "markdown",
   "metadata": {},
   "source": [
    "# Subset Selection (cross-validation)\n",
    "\n",
    "We could try to find a model with fewer predictors that approximate the data for a minimal MSE. Unfortunately, the data set is too linearly correlated to use the leaps library, in which case the alternative is lasso."
   ]
  }
