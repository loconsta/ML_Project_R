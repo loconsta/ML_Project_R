{
 "cells": [
  {
   "cell_type": "markdown",
   "metadata": {},
   "source": [
    "# Variance of models\n",
    "\n",
    "After tuning all our models, we made a comparison of their variances, given their individual variability dependent on the choice of the training set."
   ]
  },
  {
   "cell_type": "code",
   "execution_count": 5,
   "metadata": {},
   "outputs": [],
   "source": [
    "library(glmnet)\n",
    "library(keras)\n",
    "library(xgboost)\n",
    "\n",
    "data <- read.csv(file.path(\"..\",\"..\", \"data\", \"training_data.csv\"))\n",
    "data <- na.omit(data)\n",
    "data_PL <- data$VALENCE.PLEASANTNESS\n",
    "data$VALENCE.PLEASANTNESS <- NULL\n",
    "data$SWEETORSOUR <- NULL\n",
    "data$Intensity <- as.numeric(data$Intensity)"
   ]
  },
  {
   "cell_type": "code",
   "execution_count": 6,
   "metadata": {},
   "outputs": [
    {
     "data": {
      "text/html": [
       "<style>\n",
       ".list-inline {list-style: none; margin:0; padding: 0}\n",
       ".list-inline>li {display: inline-block}\n",
       ".list-inline>li:not(:last-child)::after {content: \"\\00b7\"; padding: 0 .5ex}\n",
       "</style>\n",
       "<ol class=list-inline><li>708</li><li>3028</li></ol>\n"
      ],
      "text/latex": [
       "\\begin{enumerate*}\n",
       "\\item 708\n",
       "\\item 3028\n",
       "\\end{enumerate*}\n"
      ],
      "text/markdown": [
       "1. 708\n",
       "2. 3028\n",
       "\n",
       "\n"
      ],
      "text/plain": [
       "[1]  708 3028"
      ]
     },
     "metadata": {},
     "output_type": "display_data"
    }
   ],
   "source": [
    "cols = names(data[, sapply(data, function(v) var(v) != 0)])\n",
    "data <- data[,cols]\n",
    "dim(data)"
   ]
  },
  {
   "cell_type": "code",
   "execution_count": 7,
   "metadata": {},
   "outputs": [],
   "source": [
    "set.seed(1)\n",
    "\n",
    "#define lambda once on a random split training/test\n",
    "idx <- sample(nrow(data), 4*nrow(data)/5)\n",
    "\n",
    "#matrix\n",
    "train.x <- as.matrix(data[idx,])\n",
    "train.y <- data_PL[idx]\n",
    "\n",
    "test.x <- as.matrix(data[-idx,])\n",
    "test.y <- data_PL[-idx]\n",
    "    \n",
    "cv.lasso1 <- cv.glmnet(train.x, train.y, alpha = 1, nfold = 10)\n",
    "l <- cv.lasso1$lambda.min\n",
    "\n",
    "#cross-evaluate\n",
    "lasso_cv <- function(seed){\n",
    "    set.seed(seed)\n",
    "    idx <- sample(nrow(data), 4*nrow(data)/5)\n",
    "\n",
    "    #matrix\n",
    "    train.x <- as.matrix(data[idx,])\n",
    "    train.y <- data_PL[idx]\n",
    "\n",
    "    test.x <- as.matrix(data[-idx,])\n",
    "    test.y <- data_PL[-idx]\n",
    "     \n",
    "    best.lasso1 <- glmnet(train.x, train.y, alpha = 1, lambda = l)\n",
    "    y.pred <- predict(best.lasso1, test.x)\n",
    "    lasso1.MSE <- mean((y.pred - test.y)^2)\n",
    "    lasso1.MSE\n",
    "}\n",
    "lasso_MSE <- sapply(1:50, lasso_cv)"
   ]
  },
  {
   "cell_type": "code",
   "execution_count": 8,
   "metadata": {},
   "outputs": [],
   "source": [
    "boost.cv <- function(seed){\n",
    "    set.seed(seed)\n",
    "    idx <- sample(nrow(data), 4*nrow(data)/5)\n",
    "\n",
    "    #matrix\n",
    "    train.x <- as.matrix(data[idx,])\n",
    "    train.y <- data_PL[idx]\n",
    "\n",
    "    test.x <- as.matrix(data[-idx,])\n",
    "    test.y <- data_PL[-idx]\n",
    " \n",
    "    \n",
    "    boost.pl <- xgboost(train.x, label=train.y, eta=0.00316227766016838, objective=\"reg:squarederror\", max.depth=3, nrounds=1000, verbose = 0)\n",
    "    y.pred <- predict(boost.pl, test.x)\n",
    "    test.error <- mean((y.pred - test.y)^2) \n",
    "    test.error\n",
    "    \n",
    "}\n",
    "boost_MSE <- sapply(1:50, boost.cv)"
   ]
  },
  {
   "cell_type": "code",
   "execution_count": 9,
   "metadata": {},
   "outputs": [],
   "source": [
    "boost.cv2 <- function(seed){\n",
    "    set.seed(seed)\n",
    "    idx <- sample(nrow(data), 4*nrow(data)/5)\n",
    "\n",
    "    #matrix\n",
    "    train.x <- as.matrix(data[idx,])\n",
    "    train.y <- data_PL[idx]\n",
    "\n",
    "    test.x <- as.matrix(data[-idx,])\n",
    "    test.y <- data_PL[-idx]\n",
    "    \n",
    "    boost.pl2 <- xgboost(train.x, label=train.y, eta=0.1, objective=\"reg:squarederror\", max.depth=1, nrounds=132, verbose = 0)\n",
    "    y.pred <- predict(boost.pl2, test.x)\n",
    "    test.error2 <- mean((y.pred - test.y)^2) \n",
    "    test.error2\n",
    "    \n",
    "}\n",
    "boost_MSE2 <- sapply(1:50, boost.cv2)"
   ]
  },
  {
   "cell_type": "code",
   "execution_count": 10,
   "metadata": {},
   "outputs": [],
   "source": [
    "for (i in 1:ncol(data)){\n",
    "    max <- max(data[,i])\n",
    "    min <- min(data[,i])\n",
    "    if (max != 1 & min != 0){\n",
    "        for (j in 1:nrow(data)) data[j,i] <- (data[j,i]-min) / (max-min)\n",
    "    }\n",
    "}\n",
    "\n",
    "NN_cv <- function(seed){\n",
    "    set.seed(seed)\n",
    "    \n",
    "    idx <- sample(nrow(data), 4*nrow(data)/5)\n",
    "    train.y <- data_PL[idx]\n",
    "    test.y <- data_PL[-idx]\n",
    "\n",
    "    data <- as.matrix(data)\n",
    "    #training and test scaled predictors sets\n",
    "    train.x <- data[idx,]\n",
    "    test.x <- data[-idx,]\n",
    "    \n",
    "     nn <- keras_model_sequential() %>%\n",
    "      layer_dense(units = 600, activation = 'relu', input_shape = c(3028)) %>%\n",
    "      layer_dense(units = 100, activation = 'relu',) %>%\n",
    "      layer_dense(units = 1, activation = 'linear')\n",
    "    \n",
    "        #train network\n",
    "        nn %>% compile(\n",
    "            loss = 'mse',\n",
    "            optimizer = 'adam'  \n",
    "        )\n",
    "        history <- nn %>% fit(\n",
    "            train.x,\n",
    "            train.y,\n",
    "            batch_size = 350, # stochastic gradient descent batch size\n",
    "            epochs = 650,\n",
    "            validation_split = 0.25,\n",
    "            callbacks = callback_early_stopping(monitor = \"val_loss\", patience = 10)\n",
    "        )\n",
    "        y.pred <- predict(nn, test.x) #fixed test set\n",
    "        MSE <- mean((y.pred - test.y)^2)\n",
    "        MSE\n",
    "}\n",
    "\n",
    "NN_MSE <- sapply(1:50, NN_cv)"
   ]
  },
  {
   "cell_type": "code",
   "execution_count": 11,
   "metadata": {},
   "outputs": [
    {
     "data": {
      "image/png": "[encoded data removed]",
      "text/plain": [
       "Plot with title \"Variances of models\""
      ]
     },
     "metadata": {
      "image/png": {
       "height": 420,
       "width": 420
      }
     },
     "output_type": "display_data"
    }
   ],
   "source": [
    "res <- data.frame(boost_tuned = boost_MSE**0.5, boost_cv = boost_MSE2**0.5, keras = NN_MSE**0.5, linreg = lasso_MSE**0.5)\n",
    "boxplot(res, ylab = \"RMSE\",  col = 'pink', ylim = c(18, 25))\n",
    "title('Variances of models')\n",
    "grid(12, lw = 2)"
   ]
  }
 ],
 "metadata": {
  "kernelspec": {
   "display_name": "R",
   "language": "R",
   "name": "ir"
  },
  "language_info": {
   "codemirror_mode": "r",
   "file_extension": ".r",
   "mimetype": "text/x-r-source",
   "name": "R",
   "pygments_lexer": "r",
   "version": "3.6.3"
  }
 },
 "nbformat": 4,
 "nbformat_minor": 4
}
