{
 "cells": [
  {
   "cell_type": "markdown",
   "metadata": {},
   "source": [
    "# Neuronal Networks\n",
    "We tried to fit a neuronal network to the scaled (0, 1) data, taking all the predictors (non-zero variance) as input.\n",
    "\n",
    "After testing a few architecture for the network, we saw that the MSE was highly variable, mostly when changing training/test data, and in a lesser measure when leaving randomness only to the gradient descent process. To tune hyperparameters, we averaged the MSE over multiple predictions based on the same training set for multiple parameter combinations, and tested this approach with different training sets (cross-validation). We could find an optimal tuning that stands for all different training sets, despite the variability of the MSE. We used validation sets combined with early stopping not to overfit. Then, we experimented a bit more on the last most stable conformations to pick the best model."
   ]
  },
  {
   "cell_type": "code",
   "execution_count": 200,
   "metadata": {},
   "outputs": [
    {
     "name": "stderr",
     "output_type": "stream",
     "text": [
      "Set session seed to 1 (disabled GPU, CPU parallelism)\n",
      "\n"
     ]
    }
   ],
   "source": [
    "use_session_with_seed(1)\n",
    "library(keras)\n",
    "use_condaenv(\"r-tensorflow\")\n",
    "\n",
    "data <- read.csv(file.path(\"..\", \"data\", \"training_data.csv\"))\n",
    "data <- na.omit(data)\n",
    "data$PL <- data$VALENCE.PLEASANTNESS\n",
    "data$VALENCE.PLEASANTNESS <- NULL\n",
    "data$SWEETORSOUR <- NULL\n",
    "data$Intensity <- as.numeric(data$Intensity)"
   ]
  },
  {
   "cell_type": "code",
   "execution_count": 201,
   "metadata": {},
   "outputs": [
    {
     "data": {
      "text/html": [
       "<style>\n",
       ".list-inline {list-style: none; margin:0; padding: 0}\n",
       ".list-inline>li {display: inline-block}\n",
       ".list-inline>li:not(:last-child)::after {content: \"\\00b7\"; padding: 0 .5ex}\n",
       "</style>\n",
       "<ol class=list-inline><li>708</li><li>3029</li></ol>\n"
      ],
      "text/latex": [
       "\\begin{enumerate*}\n",
       "\\item 708\n",
       "\\item 3029\n",
       "\\end{enumerate*}\n"
      ],
      "text/markdown": [
       "1. 708\n",
       "2. 3029\n",
       "\n",
       "\n"
      ],
      "text/plain": [
       "[1]  708 3029"
      ]
     },
     "metadata": {},
     "output_type": "display_data"
    }
   ],
   "source": [
    "cols = names(data[, sapply(data, function(v) var(v) != 0)])\n",
    "data <- data[,cols]\n",
    "dim(data)"
   ]
  },
  {
   "cell_type": "code",
   "execution_count": 202,
   "metadata": {},
   "outputs": [],
   "source": [
    "#training and test response sets\n",
    "idx <- sample(nrow(data), 4*nrow(data)/5)\n",
    "    \n",
    "train.y <- data$PL[idx]\n",
    "test.y <- data$PL[-idx]\n",
    "\n",
    "#scaling\n",
    "data$PL <- NULL\n",
    "data <- as.matrix(data)\n",
    "\n",
    "for (i in 1:ncol(data)){\n",
    "    max <- max(data[,i])\n",
    "    min <- min(data[,i])\n",
    "    if (max != 1 & min != 0){\n",
    "        for (j in 1:nrow(data)) data[j,i] <- (data[j,i]-min) / (max-min)\n",
    "    }\n",
    "}\n",
    "\n",
    "#training and test scaled predictors sets\n",
    "train.x <- data[idx,]\n",
    "test.x <- data[-idx,]"
   ]
  },
  {
   "cell_type": "markdown",
   "metadata": {},
   "source": [
    "The testing of multiple networks (layers, neurons) was easier using a function (with small variants of what is shown):"
   ]
  },
  {
   "cell_type": "code",
   "execution_count": 203,
   "metadata": {},
   "outputs": [],
   "source": [
    "#create NN with bootstrap data\n",
    "NN_bs_predict <- function(N1, N2){\n",
    "    \n",
    "     nn <- keras_model_sequential() %>%\n",
    "      layer_dense(units = N1, activation = 'relu', input_shape = c(3028)) %>%\n",
    "      layer_dense(units = N2, activation = 'relu',) %>%\n",
    "      layer_dense(units = 1, activation = 'linear')\n",
    "    \n",
    "        #train network\n",
    "        nn %>% compile(\n",
    "            loss = 'mse',\n",
    "            optimizer = 'adam'  \n",
    "        )\n",
    "        history <- nn %>% fit(\n",
    "            train.x,\n",
    "            train.y,\n",
    "            batch_size = 350, # stochastic gradient descent batch size\n",
    "            epochs = 650,\n",
    "            validation_split = 0.25,\n",
    "            callbacks = callback_early_stopping(monitor = \"val_loss\", patience = 10)\n",
    "        )\n",
    "        y.pred <- predict(nn, test.x) #fixed test set\n",
    "        MSE <- mean((y.pred - test.y)^2)\n",
    "        c(MSE, y.pred)\n",
    "}"
   ]
  },
  {
   "cell_type": "code",
   "execution_count": 204,
   "metadata": {},
   "outputs": [],
   "source": [
    "res <- NN_bs_predict(600, 100) "
   ]
  },
  {
   "cell_type": "code",
   "execution_count": 205,
   "metadata": {},
   "outputs": [],
   "source": [
    "MSE <- res[1]\n",
    "y.pred <- res[2:length(res)]"
   ]
  },
  {
   "cell_type": "code",
   "execution_count": 206,
   "metadata": {},
   "outputs": [
    {
     "data": {
      "text/html": [
       "<span style=white-space:pre-wrap>'MSE =  442.577849422527'</span>"
      ],
      "text/latex": [
       "'MSE =  442.577849422527'"
      ],
      "text/markdown": [
       "<span style=white-space:pre-wrap>'MSE =  442.577849422527'</span>"
      ],
      "text/plain": [
       "[1] \"MSE =  442.577849422527\""
      ]
     },
     "metadata": {},
     "output_type": "display_data"
    }
   ],
   "source": [
    "paste('MSE = ', MSE)"
   ]
  },
  {
   "cell_type": "markdown",
   "metadata": {},
   "source": [
    "The MSE is sligthly better than lasso regression, but still leaves heavy unprecisions as illustrated in the graph below:"
   ]
  },
  {
   "cell_type": "code",
   "execution_count": 207,
   "metadata": {},
   "outputs": [
    {
     "data": {
      "image/png": "[encoded data removed]",
      "text/plain": [
       "Plot with title \"Hundred first predictions with Neuronal Network\""
      ]
     },
     "metadata": {
      "image/png": {
       "height": 420,
       "width": 420
      }
     },
     "output_type": "display_data"
    }
   ],
   "source": [
    "n = 100\n",
    "plot(y.pred[1:n], col = 'blue', ylab = 'Grade', pch = 19, ylim = c(0, 120))\n",
    "points(test.y[1:n], col = 'red', pch = 19)\n",
    "title('Hundred first predictions with Neuronal Network')\n",
    "abline(h = 100, col = 'red')\n",
    "for(i in seq(0, n, 1)) abline(v = i, lty = 'dotted')\n",
    "legend('bottomright', c('Predictions', 'Real values'), col = c('blue', 'red'), pch = 19)"
   ]
  },
  {
   "cell_type": "markdown",
   "metadata": {},
   "source": [
    "The best improvement compared to linear regression is that the predicted responses are much more spread away from the mean."
   ]
  },
  {
   "cell_type": "markdown",
   "metadata": {},
   "source": [
    "# JUSTIFICATION\n",
    "We demonstrate below how we selected the optimal hyperparameters, given the variability throughout trials on the same training/test sets.\n",
    "Our conclusions stand when changing training/test sets, because all the MSE change accordingly. However, the model efficiency can change."
   ]
  },
  {
   "cell_type": "code",
   "execution_count": 208,
   "metadata": {},
   "outputs": [],
   "source": [
    "each_result <- data.frame(N1_ = 0, N2_ = 0, MSE_ = 0)\n",
    "mean_MSE <- data.frame(N1_ = 0, N2_ = 0, MSE_ = 0)\n",
    "mean_predictions_MSE <- data.frame(N1_ = 0, N2_ = 0, MSE_ = 0)\n",
    "\n",
    "\n",
    "for (N1 in c(1000, 600, 300)){\n",
    "     for (N2 in c(600, 300, 100)){\n",
    "         all.y.pred <- matrix(0, nrow = length(test.y), ncol = 5)\n",
    "         all.MSE <- c()\n",
    "         for (i in 1:5){\n",
    "            res_ <- NN_bs_predict(N1, N2)\n",
    "            MSE <- res_[1]\n",
    "            y.pred <- res_[2:length(res)]\n",
    "            each_result <- rbind(each_result, c(N1, N2, MSE))\n",
    "            all.y.pred[,i] <- y.pred\n",
    "            all.MSE <- c(all.MSE, MSE)\n",
    "        }\n",
    "        mean.y.pred <- rowMeans(all.y.pred)\n",
    "        mean_pred_MSE <- mean((test.y - mean.y.pred)^2)\n",
    "        mean_predictions_MSE <- rbind(mean_predictions_MSE, c(N1, N2, mean_pred_MSE))\n",
    "        mean_MSE <- rbind(mean_MSE, c(N1, N2, mean(all.MSE)))\n",
    "        \n",
    "    }\n",
    "}"
   ]
  },
  {
   "cell_type": "code",
   "execution_count": 209,
   "metadata": {},
   "outputs": [
    {
     "name": "stdout",
     "output_type": "stream",
     "text": [
      "[1] \"Individual results on each trial given particular parameters\"\n",
      "    N1_ N2_     MSE_\n",
      "1     0   0   0.0000\n",
      "2  1000 600 442.0600\n",
      "3  1000 600 458.0633\n",
      "4  1000 600 432.0231\n",
      "5  1000 600 465.6588\n",
      "6  1000 600 450.0558\n",
      "7  1000 300 435.6485\n",
      "8  1000 300 433.3895\n",
      "9  1000 300 446.1722\n",
      "10 1000 300 433.1426\n",
      "11 1000 300 444.2295\n",
      "12 1000 100 455.7264\n",
      "13 1000 100 444.8845\n",
      "14 1000 100 435.8398\n",
      "15 1000 100 455.4522\n",
      "16 1000 100 446.7668\n",
      "17  600 600 444.0220\n",
      "18  600 600 435.1616\n",
      "19  600 600 453.0386\n",
      "20  600 600 443.0159\n",
      "21  600 600 453.1548\n",
      "22  600 300 431.1750\n",
      "23  600 300 424.4199\n",
      "24  600 300 445.7199\n",
      "25  600 300 453.9119\n",
      "26  600 300 449.0168\n",
      "27  600 100 425.6810\n",
      "28  600 100 419.9343\n",
      "29  600 100 436.1944\n",
      "30  600 100 437.5911\n",
      "31  600 100 453.7132\n",
      "32  300 600 428.2611\n",
      "33  300 600 452.7226\n",
      "34  300 600 419.1735\n",
      "35  300 600 470.0359\n",
      "36  300 600 418.6643\n",
      "37  300 300 441.6103\n",
      "38  300 300 412.9523\n",
      "39  300 300 457.1860\n",
      "40  300 300 428.9796\n",
      "41  300 300 456.5721\n",
      "42  300 100 491.3665\n",
      "43  300 100 465.5025\n",
      "44  300 100 448.2717\n",
      "45  300 100 475.1342\n",
      "46  300 100 444.4852\n"
     ]
    }
   ],
   "source": [
    "print(\"Individual results on each trial given particular parameters\")\n",
    "print(each_result)"
   ]
  },
  {
   "cell_type": "markdown",
   "metadata": {},
   "source": [
    "We can observe that the MSE vary quite a lot between the trials for each hyperparameter combination."
   ]
  },
  {
   "cell_type": "code",
   "execution_count": 210,
   "metadata": {},
   "outputs": [
    {
     "name": "stdout",
     "output_type": "stream",
     "text": [
      "[1] \"Mean MSE for each configuration\"\n",
      "    N1_ N2_     MSE_\n",
      "1     0   0   0.0000\n",
      "2  1000 600 449.5722\n",
      "3  1000 300 438.5164\n",
      "4  1000 100 447.7339\n",
      "5   600 600 445.6786\n",
      "6   600 300 440.8487\n",
      "7   600 100 434.6228\n",
      "8   300 600 437.7715\n",
      "9   300 300 439.4600\n",
      "10  300 100 464.9520\n"
     ]
    }
   ],
   "source": [
    "print(\"Mean MSE for each configuration\")\n",
    "print(mean_MSE)"
   ]
  },
  {
   "cell_type": "markdown",
   "metadata": {},
   "source": [
    "However, when averaging the MSE, we conclude that the most reasonable conformation is with N1 = 600, N2 = 100. Changing the training/test sets does not alter that conclusion."
   ]
  },
  {
   "cell_type": "code",
   "execution_count": 211,
   "metadata": {},
   "outputs": [
    {
     "name": "stdout",
     "output_type": "stream",
     "text": [
      "[1] \"Mean result for each hyperparameters combination\"\n",
      "    N1_ N2_     MSE_\n",
      "1     0   0   0.0000\n",
      "2  1000 600 436.8268\n",
      "3  1000 300 423.1996\n",
      "4  1000 100 435.4447\n",
      "5   600 600 434.9533\n",
      "6   600 300 426.1570\n",
      "7   600 100 426.1058\n",
      "8   300 600 423.9941\n",
      "9   300 300 428.5476\n",
      "10  300 100 448.7655\n"
     ]
    }
   ],
   "source": [
    "print(\"Mean result for each hyperparameters combination\")\n",
    "print(mean_predictions_MSE)"
   ]
  },
  {
   "cell_type": "markdown",
   "metadata": {},
   "source": [
    "As additional information, we observe that averaging the different predictions lowers the MSE for every configuration, probably due to the fact the the response seem normally distributed around the middle to some extent."
   ]
  }
 ],
 "metadata": {
  "kernelspec": {
   "display_name": "R",
   "language": "R",
   "name": "ir"
  },
  "language_info": {
   "codemirror_mode": "r",
   "file_extension": ".r",
   "mimetype": "text/x-r-source",
   "name": "R",
   "pygments_lexer": "r",
   "version": "3.6.3"
  }
 },
 "nbformat": 4,
 "nbformat_minor": 4
}
