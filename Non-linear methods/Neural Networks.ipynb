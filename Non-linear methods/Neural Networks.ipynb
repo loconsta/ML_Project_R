{
 "cells": [
  {
   "cell_type": "markdown",
   "metadata": {},
   "source": [
    "# Neural Networks\n",
    "We tried to fit a neural network to the scaled (0, 1) data, taking all the predictors (non-zero variance) as input.\n",
    "\n",
    "After testing a few architectures for the network, we saw that the MSE was rather variable, mostly when changing training/test data, and in a lesser measure when leaving randomness only to the validation split taken for early stopping (to not overfit). To tune hyperparameters, we performed cross-validation with different training/test sets, and a compromise between lower mean MSE and lower variance was made. We also observed the behavior of the predictions on a same training set, but with different validation splits."
   ]
  },
  {
   "cell_type": "code",
   "execution_count": 1,
   "metadata": {},
   "outputs": [
    {
     "name": "stderr",
     "output_type": "stream",
     "text": [
      "Set session seed to 1 (disabled GPU, CPU parallelism)\n",
      "\n"
     ]
    }
   ],
   "source": [
    "library(keras)\n",
    "use_condaenv(\"r-tensorflow\")\n",
    "use_session_with_seed(1)\n",
    "\n",
    "\n",
    "data <- read.csv(file.path(\"..\", \"data\", \"training_data.csv\"))\n",
    "data <- na.omit(data)\n",
    "data$PL <- data$VALENCE.PLEASANTNESS\n",
    "data$VALENCE.PLEASANTNESS <- NULL\n",
    "data$SWEETORSOUR <- NULL\n",
    "data$Intensity <- as.numeric(data$Intensity)"
   ]
  },
  {
   "cell_type": "code",
   "execution_count": 2,
   "metadata": {},
   "outputs": [
    {
     "data": {
      "text/html": [
       "<style>\n",
       ".list-inline {list-style: none; margin:0; padding: 0}\n",
       ".list-inline>li {display: inline-block}\n",
       ".list-inline>li:not(:last-child)::after {content: \"\\00b7\"; padding: 0 .5ex}\n",
       "</style>\n",
       "<ol class=list-inline><li>708</li><li>3029</li></ol>\n"
      ],
      "text/latex": [
       "\\begin{enumerate*}\n",
       "\\item 708\n",
       "\\item 3029\n",
       "\\end{enumerate*}\n"
      ],
      "text/markdown": [
       "1. 708\n",
       "2. 3029\n",
       "\n",
       "\n"
      ],
      "text/plain": [
       "[1]  708 3029"
      ]
     },
     "metadata": {},
     "output_type": "display_data"
    }
   ],
   "source": [
    "cols = names(data[, sapply(data, function(v) var(v) != 0)])\n",
    "data <- data[,cols]\n",
    "dim(data)"
   ]
  },
  {
   "cell_type": "code",
   "execution_count": 3,
   "metadata": {},
   "outputs": [],
   "source": [
    "#training and test response sets\n",
    "idx <- sample(nrow(data), 4*nrow(data)/5)\n",
    "data_PL <- data$PL #used later\n",
    "train.y <- data$PL[idx]\n",
    "test.y <- data$PL[-idx]\n",
    "\n",
    "#scaling\n",
    "data$PL <- NULL\n",
    "data <- as.matrix(data)\n",
    "\n",
    "for (i in 1:ncol(data)){\n",
    "    max <- max(data[,i])\n",
    "    min <- min(data[,i])\n",
    "    if (max != 1 & min != 0){\n",
    "        for (j in 1:nrow(data)) data[j,i] <- (data[j,i]-min) / (max-min)\n",
    "    }\n",
    "}\n",
    "\n",
    "#training and test scaled predictors sets\n",
    "train.x <- data[idx,]\n",
    "test.x <- data[-idx,]"
   ]
  },
  {
   "cell_type": "markdown",
   "metadata": {},
   "source": [
    "The testing of multiple networks (layers, neurons) was easier using a function (with small variants of what is shown here). Below are the results of our best NN-model on a random split training/test set:"
   ]
  },
  {
   "cell_type": "code",
   "execution_count": 4,
   "metadata": {},
   "outputs": [],
   "source": [
    "#create NN with bootstrap data\n",
    "NN_bs_predict <- function(N1, N2){\n",
    "    \n",
    "     nn <- keras_model_sequential() %>%\n",
    "      layer_dense(units = N1, activation = 'relu', input_shape = c(3028)) %>%\n",
    "      layer_dense(units = N2, activation = 'relu',) %>%\n",
    "      layer_dense(units = 1, activation = 'linear')\n",
    "    \n",
    "        #train network\n",
    "        nn %>% compile(\n",
    "            loss = 'mse',\n",
    "            optimizer = 'adam'  \n",
    "        )\n",
    "        history <- nn %>% fit(\n",
    "            train.x,\n",
    "            train.y,\n",
    "            batch_size = 350, # stochastic gradient descent batch size\n",
    "            epochs = 650,\n",
    "            validation_split = 0.25,\n",
    "            callbacks = callback_early_stopping(monitor = \"val_loss\", patience = 10)\n",
    "        )\n",
    "        y.pred <- predict(nn, test.x) #fixed test set\n",
    "        MSE <- mean((y.pred - test.y)^2)\n",
    "        c(MSE, y.pred)\n",
    "}"
   ]
  },
  {
   "cell_type": "code",
   "execution_count": 5,
   "metadata": {},
   "outputs": [],
   "source": [
    "res <- NN_bs_predict(600, 100) "
   ]
  },
  {
   "cell_type": "code",
   "execution_count": 6,
   "metadata": {},
   "outputs": [],
   "source": [
    "MSE <- res[1]\n",
    "y.pred <- res[2:length(res)]"
   ]
  },
  {
   "cell_type": "code",
   "execution_count": 7,
   "metadata": {},
   "outputs": [
    {
     "data": {
      "text/html": [
       "<span style=white-space:pre-wrap>'MSE =  442.577836558451'</span>"
      ],
      "text/latex": [
       "'MSE =  442.577836558451'"
      ],
      "text/markdown": [
       "<span style=white-space:pre-wrap>'MSE =  442.577836558451'</span>"
      ],
      "text/plain": [
       "[1] \"MSE =  442.577836558451\""
      ]
     },
     "metadata": {},
     "output_type": "display_data"
    }
   ],
   "source": [
    "paste('MSE = ', MSE)"
   ]
  },
  {
   "cell_type": "markdown",
   "metadata": {},
   "source": [
    "The MSE is sligthly better than lasso regression, but still leaves heavy unprecisions as illustrated in the graph below:"
   ]
  },
  {
   "cell_type": "code",
   "execution_count": 9,
   "metadata": {},
   "outputs": [
    {
     "data": {
      "image/png": "[encoded data removed]",
      "text/plain": [
       "Plot with title \"Hundred first predictions with Neuronal Network\""
      ]
     },
     "metadata": {
      "image/png": {
       "height": 420,
       "width": 420
      }
     },
     "output_type": "display_data"
    }
   ],
   "source": [
    "n = 100\n",
    "plot(y.pred[1:n], col = 'blue', ylab = 'Grade', pch = 19, ylim = c(0, 120))\n",
    "points(test.y[1:n], col = 'red', pch = 19)\n",
    "title('Hundred first predictions with Neuronal Network')\n",
    "abline(h = 100, col = 'red')\n",
    "for(i in seq(0, n, 1)) abline(v = i, lty = 'dotted')\n",
    "legend('bottomright', c('Predictions', 'Real values'), col = c('blue', 'red'), pch = 19)"
   ]
  },
  {
   "cell_type": "markdown",
   "metadata": {},
   "source": [
    "The best improvement compared to linear regression is that the predicted responses are much more spread away from the mean."
   ]
  },
  {
   "cell_type": "markdown",
   "metadata": {},
   "source": [
    "# JUSTIFICATION\n",
    "We applied cross-validation to show the mean MSE and variance of the parameters combinations, elements that are taken into account for the choice of the model.\n",
    "We also demonstrate that the variability of the MSE given different validation sets taken in the same training/set is not significant for choosing the model."
   ]
  },
  {
   "cell_type": "markdown",
   "metadata": {},
   "source": [
    "## Cross-Validation, parameters combinations variance"
   ]
  },
  {
   "cell_type": "code",
   "execution_count": 10,
   "metadata": {},
   "outputs": [],
   "source": [
    "MSEs <- c()\n",
    "\n",
    "for (N1 in c(1000, 600, 300)){\n",
    "    for (N2 in c(600, 300, 100)){\n",
    "        res <- c()\n",
    "        #create architecture\n",
    "        nn <- keras_model_sequential() %>%\n",
    "            layer_dense(units = N1, activation = 'relu', input_shape = c(3028)) %>%\n",
    "            layer_dense(units = N2, activation = 'relu',) %>%\n",
    "            layer_dense(units = 1, activation = 'linear')\n",
    "        \n",
    "    for (i in 1:20){\n",
    "        set.seed(i)\n",
    "        #create different sets each turn\n",
    "        idx <- sample(nrow(data), 4*nrow(data)/5)\n",
    "        train.y <- data_PL[idx]\n",
    "        test.y <- data_PL[-idx]\n",
    "        train.x <- data[idx,]\n",
    "        test.x <- data[-idx,]\n",
    "        \n",
    "        #train network\n",
    "        nn %>% compile(\n",
    "            loss = 'mse',\n",
    "            optimizer = 'adam'  \n",
    "        )\n",
    "        history <- nn %>% fit(\n",
    "            train.x,\n",
    "            train.y,\n",
    "            batch_size = 350, # stochastic gradient descent batch size\n",
    "            epochs = 650,\n",
    "            validation_split = 0.25,\n",
    "            callbacks = callback_early_stopping(monitor = \"val_loss\", patience = 10)\n",
    "        )\n",
    "        #compute MSE\n",
    "        y.pred <- predict(nn, test.x) #fixed test set\n",
    "        MSE <- mean((y.pred - test.y)^2)\n",
    "        res <- c(res, MSE)\n",
    "        }\n",
    "    #store cross-validated MSEs for each parameter combination\n",
    "    MSEs <- rbind(MSEs, res)\n",
    "    }\n",
    "}"
   ]
  },
  {
   "cell_type": "code",
   "execution_count": 19,
   "metadata": {},
   "outputs": [
    {
     "data": {
      "image/png": "[encoded data removed]",
      "text/plain": [
       "Plot with title \"Boxplots of NN given number of neurons\""
      ]
     },
     "metadata": {
      "image/png": {
       "height": 420,
       "width": 420
      }
     },
     "output_type": "display_data"
    }
   ],
   "source": [
    "RMSEs <- MSEs**0.5\n",
    "to_plot <- data.frame(thou_6 = RMSEs[1,], thou_3 = RMSEs[2,], thou_1 = RMSEs[3,],\n",
    "                     six_6 = RMSEs[4,], six_3 = RMSEs[5,], six_1 = RMSEs[6,],\n",
    "                     three_6 = RMSEs[7,], three_3 = RMSEs[8,], three_1 = RMSEs[9,])\n",
    "boxplot(to_plot, ylab = \"RMSE\",  col = 'blue', ylim = c(16, 24), las = 2)\n",
    "title('Boxplots of NN given number of neurons')\n",
    "grid(12, lw = 2)"
   ]
  },
  {
   "cell_type": "markdown",
   "metadata": {},
   "source": [
    "We see that most configurations have comparable variance throughout training/test sets, with notably a better score for a configuration of 2 layers, 600 and 100 neurons respectively, which is the one we chose."
   ]
  },
  {
   "cell_type": "markdown",
   "metadata": {},
   "source": [
    "## Validation split variance"
   ]
  },
  {
   "cell_type": "code",
   "execution_count": 12,
   "metadata": {},
   "outputs": [],
   "source": [
    "each_result <- c()\n",
    "mean_MSE <- c()\n",
    "\n",
    "for (N1 in c(1000, 600, 300)){\n",
    "     for (N2 in c(600, 300, 100)){\n",
    "         all.MSE <- c()\n",
    "         for (i in 1:10){\n",
    "            res_ <- NN_bs_predict(N1, N2)\n",
    "            MSE <- res_[1]\n",
    "            each_result <- rbind(each_result, c(N1, N2, MSE))\n",
    "            all.MSE <- c(all.MSE, MSE)\n",
    "        }\n",
    "        mean_MSE <- rbind(mean_MSE, c(N1, N2, mean(all.MSE)))\n",
    "    }\n",
    "}"
   ]
  },
  {
   "cell_type": "code",
   "execution_count": 13,
   "metadata": {},
   "outputs": [],
   "source": [
    "each_result <- data.frame(N1 = each_result[,1], N2 = each_result[,2], MSE = each_result[,3])\n",
    "mean_MSE <- data.frame(N1 = mean_MSE[,1], N2 = mean_MSE[,2], MSE = mean_MSE[,3])"
   ]
  },
  {
   "cell_type": "code",
   "execution_count": 14,
   "metadata": {},
   "outputs": [
    {
     "name": "stdout",
     "output_type": "stream",
     "text": [
      "[1] \"Individual results on each trial given particular parameters\"\n",
      "     N1  N2      MSE\n",
      "1  1000 600 525.2761\n",
      "2  1000 600 526.5681\n",
      "3  1000 600 517.2698\n",
      "4  1000 600 538.3980\n",
      "5  1000 600 530.5105\n",
      "6  1000 600 517.5046\n",
      "7  1000 600 526.0032\n",
      "8  1000 600 508.7869\n",
      "9  1000 600 521.9837\n",
      "10 1000 600 532.8831\n",
      "11 1000 300 508.0445\n",
      "12 1000 300 522.7490\n",
      "13 1000 300 529.8676\n",
      "14 1000 300 516.9711\n",
      "15 1000 300 524.9786\n",
      "16 1000 300 520.4796\n",
      "17 1000 300 516.1250\n",
      "18 1000 300 540.0180\n",
      "19 1000 300 533.6941\n",
      "20 1000 300 539.7748\n",
      "21 1000 100 528.1331\n",
      "22 1000 100 511.2316\n",
      "23 1000 100 532.6563\n",
      "24 1000 100 522.9322\n",
      "25 1000 100 520.1459\n",
      "26 1000 100 535.9471\n",
      "27 1000 100 519.4431\n",
      "28 1000 100 529.0644\n",
      "29 1000 100 543.9004\n",
      "30 1000 100 523.2628\n",
      "31  600 600 504.3359\n",
      "32  600 600 530.8842\n",
      "33  600 600 508.8999\n",
      "34  600 600 530.3565\n",
      "35  600 600 520.5148\n",
      "36  600 600 522.2728\n",
      "37  600 600 506.4048\n",
      "38  600 600 539.3249\n",
      "39  600 600 514.7110\n",
      "40  600 600 519.2061\n",
      "41  600 300 524.2843\n",
      "42  600 300 527.3074\n",
      "43  600 300 538.5684\n",
      "44  600 300 519.7373\n",
      "45  600 300 532.0949\n",
      "46  600 300 505.5595\n",
      "47  600 300 515.3721\n",
      "48  600 300 531.1024\n",
      "49  600 300 516.3173\n",
      "50  600 300 512.9743\n",
      "51  600 100 530.6686\n",
      "52  600 100 526.2528\n",
      "53  600 100 496.1434\n",
      "54  600 100 566.5357\n",
      "55  600 100 524.0224\n",
      "56  600 100 535.7630\n",
      "57  600 100 525.5103\n",
      "58  600 100 542.2336\n",
      "59  600 100 497.4343\n",
      "60  600 100 519.1446\n",
      "61  300 600 517.9955\n",
      "62  300 600 494.1920\n",
      "63  300 600 497.7844\n",
      "64  300 600 510.7374\n",
      "65  300 600 515.5077\n",
      "66  300 600 529.8975\n",
      "67  300 600 503.9315\n",
      "68  300 600 564.1836\n",
      "69  300 600 529.0028\n",
      "70  300 600 533.0564\n",
      "71  300 300 513.0397\n",
      "72  300 300 532.7533\n",
      "73  300 300 552.8783\n",
      "74  300 300 517.8673\n",
      "75  300 300 532.7294\n",
      "76  300 300 520.8112\n",
      "77  300 300 505.5734\n",
      "78  300 300 510.6325\n",
      "79  300 300 526.3018\n",
      "80  300 300 523.3239\n",
      "81  300 100 546.1388\n",
      "82  300 100 540.0310\n",
      "83  300 100 517.7132\n",
      "84  300 100 528.5793\n",
      "85  300 100 534.2159\n",
      "86  300 100 519.2435\n",
      "87  300 100 507.0530\n",
      "88  300 100 507.6423\n",
      "89  300 100 512.9436\n",
      "90  300 100 515.7393\n"
     ]
    }
   ],
   "source": [
    "print(\"Individual results on each trial given particular parameters\")\n",
    "print(each_result)"
   ]
  },
  {
   "cell_type": "markdown",
   "metadata": {},
   "source": [
    "We can observe that the MSE varies a bit given the validation set for each hyperparameter combination."
   ]
  },
  {
   "cell_type": "code",
   "execution_count": 20,
   "metadata": {},
   "outputs": [
    {
     "name": "stdout",
     "output_type": "stream",
     "text": [
      "[1] \"Mean MSE for each configuration\"\n",
      "    N1  N2      MSE\n",
      "1 1000 600 524.5184\n",
      "2 1000 300 525.2702\n",
      "3 1000 100 526.6717\n",
      "4  600 600 519.6911\n",
      "5  600 300 522.3318\n",
      "6  600 100 526.3709\n",
      "7  300 600 519.6289\n",
      "8  300 300 523.5911\n",
      "9  300 100 522.9300\n"
     ]
    },
    {
     "data": {
      "image/png": "[encoded data removed]",
      "text/plain": [
       "Plot with title \"Variances given validation split\""
      ]
     },
     "metadata": {
      "image/png": {
       "height": 420,
       "width": 420
      }
     },
     "output_type": "display_data"
    }
   ],
   "source": [
    "print(\"Mean MSE for each configuration\")\n",
    "print(mean_MSE)\n",
    "p <- each_result$MSE**0.5\n",
    "vars <- data.frame(thou_6 = p[1:10], thou_3 = p[11:20], thou_1 = p[21:30],\n",
    "                     six_6 = p[31:40], six_3 = p[41:50], six_1 = p[51:60],\n",
    "                     three_6 = p[61:70], three_3 = p[71:80], p = p[81:90])\n",
    "boxplot(vars, ylab = \"RMSE\",  col = 'green', las = 2)\n",
    "title('Variances given validation split')\n",
    "grid(12, lw = 2)"
   ]
  },
  {
   "cell_type": "markdown",
   "metadata": {},
   "source": [
    "When comparing the MSE and variances on this particular training set, we observe that the variance due to the validation split is comparable between most methods, and does not constitute a bias when choosing the model. It also illustrate that the method we chose actually can give pretty bad results on particular splits."
   ]
  }
 ],
 "metadata": {
  "kernelspec": {
   "display_name": "R",
   "language": "R",
   "name": "ir"
  },
  "language_info": {
   "codemirror_mode": "r",
   "file_extension": ".r",
   "mimetype": "text/x-r-source",
   "name": "R",
   "pygments_lexer": "r",
   "version": "3.6.3"
  }
 },
 "nbformat": 4,
 "nbformat_minor": 4
}
