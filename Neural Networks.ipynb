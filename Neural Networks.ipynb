{
 "cells": [
  {
   "cell_type": "markdown",
   "metadata": {},
   "source": [
    "# Neural Networks\n",
    "We tried to fit a neural network to the scaled (0, 1) data, taking all the predictors (non-zero variance) as input.\n",
    "\n",
    "After testing a few architectures for the network, we saw that the MSE was rather variable, mostly when changing training/test data, and in a lesser measure when leaving randomness only to the validation split taken for early stopping (no good model could be generated without regularization). To tune hyperparameters, we performed cross-validation with different training/test sets, and a compromise between lower mean MSE and lower variance was made. We also observed the behavior of the predictions on a same training set, but with different validation splits."
   ]
  },
  {
   "cell_type": "code",
   "execution_count": 59,
   "metadata": {},
   "outputs": [
    {
     "name": "stderr",
     "output_type": "stream",
     "text": [
      "Set session seed to 1 (disabled GPU, CPU parallelism)\n",
      "\n"
     ]
    }
   ],
   "source": [
    "library(keras)\n",
    "use_condaenv(\"r-tensorflow\")\n",
    "use_session_with_seed(1)\n",
    "\n",
    "data <- read.csv(file.path(\"..\", \"data\", \"training_data.csv\"))\n",
    "data <- na.omit(data)\n",
    "data$PL <- data$VALENCE.PLEASANTNESS\n",
    "data$VALENCE.PLEASANTNESS <- NULL\n",
    "data$SWEETORSOUR <- NULL\n",
    "data$Intensity <- as.numeric(data$Intensity)"
   ]
  },
  {
   "cell_type": "code",
   "execution_count": 60,
   "metadata": {},
   "outputs": [
    {
     "data": {
      "text/html": [
       "<style>\n",
       ".list-inline {list-style: none; margin:0; padding: 0}\n",
       ".list-inline>li {display: inline-block}\n",
       ".list-inline>li:not(:last-child)::after {content: \"\\00b7\"; padding: 0 .5ex}\n",
       "</style>\n",
       "<ol class=list-inline><li>708</li><li>3029</li></ol>\n"
      ],
      "text/latex": [
       "\\begin{enumerate*}\n",
       "\\item 708\n",
       "\\item 3029\n",
       "\\end{enumerate*}\n"
      ],
      "text/markdown": [
       "1. 708\n",
       "2. 3029\n",
       "\n",
       "\n"
      ],
      "text/plain": [
       "[1]  708 3029"
      ]
     },
     "metadata": {},
     "output_type": "display_data"
    }
   ],
   "source": [
    "cols = names(data[, sapply(data, function(v) var(v) != 0)])\n",
    "data <- data[,cols]\n",
    "dim(data)"
   ]
  },
  {
   "cell_type": "code",
   "execution_count": 61,
   "metadata": {},
   "outputs": [],
   "source": [
    "#training and test response sets\n",
    "\n",
    "idx <- sample(nrow(data), 4*nrow(data)/5)\n",
    "data_PL <- data$PL #used later\n",
    "train.y <- data$PL[idx]\n",
    "test.y <- data$PL[-idx]\n",
    "\n",
    "#scaling\n",
    "data$PL <- NULL\n",
    "data <- as.matrix(data)\n",
    "\n",
    "for (i in 1:ncol(data)){\n",
    "    max <- max(data[,i])\n",
    "    min <- min(data[,i])\n",
    "    if (max != 1 & min != 0){\n",
    "        for (j in 1:nrow(data)) data[j,i] <- (data[j,i]-min) / (max-min)\n",
    "    }\n",
    "}\n",
    "\n",
    "#training and test scaled predictors sets\n",
    "train.x <- data[idx,]\n",
    "test.x <- data[-idx,]"
   ]
  },
  {
   "cell_type": "markdown",
   "metadata": {},
   "source": [
    "The testing of multiple networks (layers, neurons) was easier using functions (with small variants of what is shown here). Below are the results of our best NN-models on a random split training/test set:"
   ]
  },
  {
   "cell_type": "code",
   "execution_count": 62,
   "metadata": {},
   "outputs": [],
   "source": [
    "#create NN  with 1 layer\n",
    "NN_one_predict <- function(N1){\n",
    "     \n",
    "    nn <- keras_model_sequential() %>%\n",
    "      layer_dense(units = N1, activation = 'relu', input_shape = c(3028)) %>%\n",
    "      layer_dense(units = 1, activation = 'linear')\n",
    "    \n",
    "        #train network\n",
    "        nn %>% compile(\n",
    "            loss = 'mse',\n",
    "            optimizer = 'adam'  \n",
    "        )\n",
    "        history <- nn %>% fit(\n",
    "            train.x,\n",
    "            train.y,\n",
    "            batch_size = 350, # stochastic gradient descent batch size\n",
    "            epochs = 650,\n",
    "            validation_split = 0.25,\n",
    "            callbacks = callback_early_stopping(monitor = \"val_loss\", patience = 10)\n",
    "        )\n",
    "        y.pred <- predict(nn, test.x) #fixed test set\n",
    "        MSE <- mean((y.pred - test.y)^2)\n",
    "        c(MSE, y.pred)\n",
    "}\n",
    "\n",
    "#create NN  with 2 layers\n",
    "NN_two_predict <- function(N1, N2){\n",
    "     \n",
    "    nn <- keras_model_sequential() %>%\n",
    "      layer_dense(units = N1, activation = 'relu', input_shape = c(3028)) %>%\n",
    "      layer_dense(units = N2, activation = 'relu',) %>%\n",
    "      layer_dense(units = 1, activation = 'linear')\n",
    "    \n",
    "        #train network\n",
    "        nn %>% compile(\n",
    "            loss = 'mse',\n",
    "            optimizer = 'adam'  \n",
    "        )\n",
    "        history <- nn %>% fit(\n",
    "            train.x,\n",
    "            train.y,\n",
    "            batch_size = 350, # stochastic gradient descent batch size\n",
    "            epochs = 650,\n",
    "            validation_split = 0.25,\n",
    "            callbacks = callback_early_stopping(monitor = \"val_loss\", patience = 10)\n",
    "        )\n",
    "        y.pred <- predict(nn, test.x) #fixed test set\n",
    "        MSE <- mean((y.pred - test.y)^2)\n",
    "        c(MSE, y.pred)\n",
    "}"
   ]
  },
  {
   "cell_type": "markdown",
   "metadata": {},
   "source": [
    "### 1 layer"
   ]
  },
  {
   "cell_type": "code",
   "execution_count": 63,
   "metadata": {},
   "outputs": [
    {
     "data": {
      "text/html": [
       "<span style=white-space:pre-wrap>'MSE =  433.047664136489'</span>"
      ],
      "text/latex": [
       "'MSE =  433.047664136489'"
      ],
      "text/markdown": [
       "<span style=white-space:pre-wrap>'MSE =  433.047664136489'</span>"
      ],
      "text/plain": [
       "[1] \"MSE =  433.047664136489\""
      ]
     },
     "metadata": {},
     "output_type": "display_data"
    }
   ],
   "source": [
    "res.one <- NN_one_predict(400) \n",
    "MSE <- res.one[1]\n",
    "y.pred.one <- res.one[2:length(res.one)]\n",
    "paste('MSE = ', MSE)"
   ]
  },
  {
   "cell_type": "markdown",
   "metadata": {},
   "source": [
    "The MSE is sligthly better than lasso regression on this split, but still leaves heavy unprecisions as illustrated in the graph below:"
   ]
  },
  {
   "cell_type": "code",
   "execution_count": 64,
   "metadata": {},
   "outputs": [
    {
     "data": {
      "image/png": "[encoded data removed]",
      "text/plain": [
       "Plot with title \"Hundred first predictions with Neuronal Network, one layers\""
      ]
     },
     "metadata": {
      "image/png": {
       "height": 420,
       "width": 420
      }
     },
     "output_type": "display_data"
    }
   ],
   "source": [
    "n = 100\n",
    "plot(y.pred.one[1:n], col = 'blue', ylab = 'Grade', pch = 19, ylim = c(0, 120))\n",
    "points(test.y[1:n], col = 'red', pch = 19)\n",
    "title('Hundred first predictions with Neuronal Network, one layers')\n",
    "abline(h = 100, col = 'red')\n",
    "for(i in seq(0, n, 1)) abline(v = i, lty = 'dotted')\n",
    "legend('bottomright', c('Predictions', 'Real values'), col = c('blue', 'red'), pch = 19)"
   ]
  },
  {
   "cell_type": "markdown",
   "metadata": {},
   "source": [
    "Compared to linear regression, the predictions are still rather contrained around the mean despite a lower MSE."
   ]
  },
  {
   "cell_type": "markdown",
   "metadata": {},
   "source": [
    "### 2 layers"
   ]
  },
  {
   "cell_type": "code",
   "execution_count": 65,
   "metadata": {},
   "outputs": [
    {
     "data": {
      "text/html": [
       "<span style=white-space:pre-wrap>'MSE =  415.929074164879'</span>"
      ],
      "text/latex": [
       "'MSE =  415.929074164879'"
      ],
      "text/markdown": [
       "<span style=white-space:pre-wrap>'MSE =  415.929074164879'</span>"
      ],
      "text/plain": [
       "[1] \"MSE =  415.929074164879\""
      ]
     },
     "metadata": {},
     "output_type": "display_data"
    }
   ],
   "source": [
    "res.two <- NN_two_predict(600, 100) \n",
    "MSE <- res.two[1]\n",
    "y.pred.two <- res.two[2:length(res.two)]\n",
    "paste('MSE = ', MSE)"
   ]
  },
  {
   "cell_type": "markdown",
   "metadata": {},
   "source": [
    "As for one 1-layer-NN, the MSE is sligthly better than lasso regression on this split, but still leaves heavy unprecisions as illustrated in the graph below:"
   ]
  },
  {
   "cell_type": "code",
   "execution_count": 66,
   "metadata": {},
   "outputs": [
    {
     "data": {
      "image/png": "[encoded data removed]",
      "text/plain": [
       "Plot with title \"Hundred first predictions with Neuronal Network, two layers\""
      ]
     },
     "metadata": {
      "image/png": {
       "height": 420,
       "width": 420
      }
     },
     "output_type": "display_data"
    }
   ],
   "source": [
    "n = 100\n",
    "plot(y.pred.two[1:n], col = 'blue', ylab = 'Grade', pch = 19, ylim = c(0, 120))\n",
    "points(test.y[1:n], col = 'red', pch = 19)\n",
    "title('Hundred first predictions with Neuronal Network, two layers')\n",
    "abline(h = 100, col = 'red')\n",
    "for(i in seq(0, n, 1)) abline(v = i, lty = 'dotted')\n",
    "legend('bottomright', c('Predictions', 'Real values'), col = c('blue', 'red'), pch = 19)"
   ]
  },
  {
   "cell_type": "markdown",
   "metadata": {},
   "source": [
    "The best improvement compared to linear regression and our one layer-NN is that the predicted responses are much more spread away from the mean."
   ]
  },
  {
   "cell_type": "markdown",
   "metadata": {},
   "source": [
    "# MODEL JUSTIFICATION\n",
    "We applied cross-validation to show the mean MSE and variance of the parameters combinations, elements that are taken into account for the choice of the model.\n",
    "We also demonstrate that the variability of the MSE given different validation sets taken in the same training/set is not significant for choosing the model.\n",
    "\n",
    "## 6-fold Cross-Validation without early-stopping"
   ]
  },
  {
   "cell_type": "code",
   "execution_count": 67,
   "metadata": {},
   "outputs": [],
   "source": [
    "MSEs <- c()\n",
    "\n",
    "for (N1 in c(1000, 600, 300)){\n",
    "    for (N2 in c(600, 300, 100)){\n",
    "        res <- c()\n",
    "        #create architecture\n",
    "        nn <- keras_model_sequential() %>%\n",
    "            layer_dense(units = N1, activation = 'relu', input_shape = c(3028)) %>%\n",
    "            layer_dense(units = N2, activation = 'relu',) %>%\n",
    "            layer_dense(units = 1, activation = 'linear')\n",
    "        \n",
    "    for (i in 0:5){\n",
    "        \n",
    "        idx <- (1+i*118):((i+1)*118)\n",
    "        train.y <- data_PL[idx]\n",
    "        test.y <- data_PL[-idx]\n",
    "        train.x <- data[idx,]\n",
    "        test.x <- data[-idx,]\n",
    "        \n",
    "        #train network\n",
    "        nn %>% compile(\n",
    "            loss = 'mse',\n",
    "            optimizer = 'adam'  \n",
    "        )\n",
    "        history <- nn %>% fit(\n",
    "            train.x,\n",
    "            train.y,\n",
    "            batch_size = 120, # stochastic gradient descent batch size\n",
    "            epochs = 300,\n",
    "        )\n",
    "        #compute MSE\n",
    "        y.pred <- predict(nn, test.x) #fixed test set\n",
    "        MSE <- mean((y.pred - test.y)^2)\n",
    "        res <- c(res, MSE)\n",
    "        }\n",
    "    #store cross-validated MSEs for each parameter combination\n",
    "    MSEs <- rbind(MSEs, res)\n",
    "    }\n",
    "}"
   ]
  },
  {
   "cell_type": "code",
   "execution_count": 68,
   "metadata": {},
   "outputs": [
    {
     "data": {
      "image/png": "[encoded data removed]",
      "text/plain": [
       "Plot with title \"Boxplots of 6-fold CV without regularization with early stopping\""
      ]
     },
     "metadata": {
      "image/png": {
       "height": 420,
       "width": 420
      }
     },
     "output_type": "display_data"
    }
   ],
   "source": [
    "RMSEs <- MSEs**0.5\n",
    "to_plot <- data.frame(thou_6 = RMSEs[1,], thou_3 = RMSEs[2,], thou_1 = RMSEs[3,],\n",
    "                     six_6 = RMSEs[4,], six_3 = RMSEs[5,], six_1 = RMSEs[6,],\n",
    "                     three_6 = RMSEs[7,], three_3 = RMSEs[8,], three_1 = RMSEs[9,])\n",
    "boxplot(to_plot, ylab = \"RMSE\",  col = 'red', las = 2)\n",
    "title('Boxplots of 6-fold CV without regularization with early stopping')\n",
    "grid(12, lw = 2)"
   ]
  },
  {
   "cell_type": "markdown",
   "metadata": {},
   "source": [
    "We can see that all MSE are terrible and highly variable after 300 epochs, and that no regularization ends quickly in overfitting, which justify the need for a validation split to use early stopping, and then to test the model on new test data to evaluate its performance. This results also stands for only one layer."
   ]
  },
  {
   "cell_type": "markdown",
   "metadata": {},
   "source": [
    "## Cross-Validation with early-stopping, 1 hidden layer"
   ]
  },
  {
   "cell_type": "code",
   "execution_count": 69,
   "metadata": {},
   "outputs": [],
   "source": [
    "MSEs <- c()\n",
    "\n",
    "for (N1 in c(1000, 800, 600, 400, 300, 200)){\n",
    "    \n",
    "    res <- c()\n",
    "    #create architecture\n",
    "    nn <- keras_model_sequential() %>%\n",
    "        layer_dense(units = N1, activation = 'relu', input_shape = c(3028)) %>%\n",
    "        layer_dense(units = 1, activation = 'linear')\n",
    "        \n",
    "    for (i in 1:20){\n",
    "        set.seed(i)\n",
    "        #create different sets each turn\n",
    "        idx <- sample(nrow(data), 4*nrow(data)/5)\n",
    "        train.y <- data_PL[idx]\n",
    "        test.y <- data_PL[-idx]\n",
    "        train.x <- data[idx,]\n",
    "        test.x <- data[-idx,]\n",
    "        \n",
    "        #train network\n",
    "        nn %>% compile(\n",
    "            loss = 'mse',\n",
    "            optimizer = 'adam'  \n",
    "        )\n",
    "        history <- nn %>% fit(\n",
    "            train.x,\n",
    "            train.y,\n",
    "            batch_size = 250, # stochastic gradient descent batch size\n",
    "            epochs = 300,\n",
    "            validation_split = 0.25,\n",
    "            callbacks = callback_early_stopping(monitor = \"val_loss\", patience = 10)\n",
    "        )\n",
    "        #compute MSE\n",
    "        y.pred <- predict(nn, test.x) #fixed test set\n",
    "        MSE <- mean((y.pred - test.y)^2)\n",
    "        res <- c(res, MSE)\n",
    "        }\n",
    "    #store cross-validated MSEs for each parameter combination\n",
    "    MSEs <- rbind(MSEs, res)\n",
    "}"
   ]
  },
  {
   "cell_type": "code",
   "execution_count": 70,
   "metadata": {},
   "outputs": [
    {
     "data": {
      "image/png": "[encoded data removed]",
      "text/plain": [
       "Plot with title \"Boxplots of NN, 1 layer\""
      ]
     },
     "metadata": {
      "image/png": {
       "height": 420,
       "width": 420
      }
     },
     "output_type": "display_data"
    }
   ],
   "source": [
    "RMSEs <- MSEs**0.5\n",
    "to_plot <- data.frame(thou = RMSEs[1,], eight = RMSEs[2,], six = RMSEs[3,],\n",
    "                     four = RMSEs[4,], three = RMSEs[5,], two = RMSEs[6,])\n",
    "boxplot(to_plot, ylab = \"RMSE\",  col = 'blue', ylim = c(16, 24), las = 2)\n",
    "title('Boxplots of NN, 1 layer')\n",
    "grid(12, lw = 2)"
   ]
  },
  {
   "cell_type": "markdown",
   "metadata": {},
   "source": [
    "The first thing we observe configurations benefit from regularization. The best one-layer conformation seem to be 400 hundred neurons, but the difference with the others is not so sharp. "
   ]
  },
  {
   "cell_type": "markdown",
   "metadata": {},
   "source": [
    "## Cross-Validation with early-stopping, 2 hidden layers"
   ]
  },
  {
   "cell_type": "code",
   "execution_count": 71,
   "metadata": {},
   "outputs": [],
   "source": [
    "MSEs <- c()\n",
    "\n",
    "for (N1 in c(1000, 600, 300)){\n",
    "    for (N2 in c(600, 300, 100)){\n",
    "        res <- c()\n",
    "        #create architecture\n",
    "        nn <- keras_model_sequential() %>%\n",
    "            layer_dense(units = N1, activation = 'relu', input_shape = c(3028)) %>%\n",
    "            layer_dense(units = N2, activation = 'relu',) %>%\n",
    "            layer_dense(units = 1, activation = 'linear')\n",
    "        \n",
    "    for (i in 1:20){\n",
    "        set.seed(i)\n",
    "        #create different sets each turn\n",
    "        idx <- sample(nrow(data), 4*nrow(data)/5)\n",
    "        train.y <- data_PL[idx]\n",
    "        test.y <- data_PL[-idx]\n",
    "        train.x <- data[idx,]\n",
    "        test.x <- data[-idx,]\n",
    "        \n",
    "        #train network\n",
    "        nn %>% compile(\n",
    "            loss = 'mse',\n",
    "            optimizer = 'adam'  \n",
    "        )\n",
    "        history <- nn %>% fit(\n",
    "            train.x,\n",
    "            train.y,\n",
    "            batch_size = 250, # stochastic gradient descent batch size\n",
    "            epochs = 300,\n",
    "            validation_split = 0.25,\n",
    "            callbacks = callback_early_stopping(monitor = \"val_loss\", patience = 10)\n",
    "        )\n",
    "        #compute MSE\n",
    "        y.pred <- predict(nn, test.x) #fixed test set\n",
    "        MSE <- mean((y.pred - test.y)^2)\n",
    "        res <- c(res, MSE)\n",
    "        }\n",
    "    #store cross-validated MSEs for each parameter combination\n",
    "    MSEs <- rbind(MSEs, res)\n",
    "    }\n",
    "}"
   ]
  },
  {
   "cell_type": "code",
   "execution_count": 72,
   "metadata": {},
   "outputs": [
    {
     "data": {
      "image/png": "[encoded data removed]",
      "text/plain": [
       "Plot with title \"Boxplots of NN, 2 layers\""
      ]
     },
     "metadata": {
      "image/png": {
       "height": 420,
       "width": 420
      }
     },
     "output_type": "display_data"
    }
   ],
   "source": [
    "RMSEs <- MSEs**0.5\n",
    "to_plot <- data.frame(thou_6 = RMSEs[1,], thou_3 = RMSEs[2,], thou_1 = RMSEs[3,],\n",
    "                     six_6 = RMSEs[4,], six_3 = RMSEs[5,], six_1 = RMSEs[6,],\n",
    "                     three_6 = RMSEs[7,], three_3 = RMSEs[8,], three_1 = RMSEs[9,])\n",
    "boxplot(to_plot, ylab = \"RMSE\",  col = 'blue', ylim = c(16, 24), las = 2)\n",
    "title('Boxplots of NN, 2 layers')\n",
    "grid(12, lw = 2)"
   ]
  },
  {
   "cell_type": "markdown",
   "metadata": {},
   "source": [
    "We observe that most configurations have comparable variance and that the cross-validation is not very conclusive, but over multiple trials we observed a slightly better score for the following configurations: 1000/600, 600/100, 600/300, 300/100. As their RMSEs are very similar, we chose 600/100 for its more stably good performance on repeated cross-validation. The results are neither worse or better than with a single layer."
   ]
  },
  {
   "cell_type": "markdown",
   "metadata": {},
   "source": [
    "## Validation split variance"
   ]
  },
  {
   "cell_type": "code",
   "execution_count": 73,
   "metadata": {},
   "outputs": [],
   "source": [
    "each_result <- c()\n",
    "mean_MSE <- c()\n",
    "\n",
    "for (N1 in c(1000, 600, 300)){\n",
    "     for (N2 in c(600, 300, 100)){\n",
    "         all.MSE <- c()\n",
    "         for (i in 1:10){\n",
    "            res_ <- NN_two_predict(N1, N2)\n",
    "            MSE <- res_[1]\n",
    "            each_result <- rbind(each_result, c(N1, N2, MSE))\n",
    "            all.MSE <- c(all.MSE, MSE)\n",
    "        }\n",
    "        mean_MSE <- rbind(mean_MSE, c(N1, N2, mean(all.MSE)))\n",
    "    }\n",
    "}"
   ]
  },
  {
   "cell_type": "code",
   "execution_count": 74,
   "metadata": {},
   "outputs": [],
   "source": [
    "each_result <- data.frame(N1 = each_result[,1], N2 = each_result[,2], MSE = each_result[,3])\n",
    "mean_MSE <- data.frame(N1 = mean_MSE[,1], N2 = mean_MSE[,2], MSE = mean_MSE[,3])"
   ]
  },
  {
   "cell_type": "code",
   "execution_count": 75,
   "metadata": {},
   "outputs": [
    {
     "name": "stdout",
     "output_type": "stream",
     "text": [
      "[1] \"Individual results on each trial given particular parameters\"\n",
      "     N1  N2      MSE\n",
      "1  1000 600 525.1636\n",
      "2  1000 600 516.6231\n",
      "3  1000 600 546.0629\n",
      "4  1000 600 547.4950\n",
      "5  1000 600 516.1470\n",
      "6  1000 600 517.7516\n",
      "7  1000 600 533.1762\n",
      "8  1000 600 526.1455\n",
      "9  1000 600 536.2723\n",
      "10 1000 600 553.0643\n",
      "11 1000 300 519.2429\n",
      "12 1000 300 524.8473\n",
      "13 1000 300 531.3997\n",
      "14 1000 300 503.6738\n",
      "15 1000 300 534.6454\n",
      "16 1000 300 534.2860\n",
      "17 1000 300 543.4577\n",
      "18 1000 300 512.0656\n",
      "19 1000 300 540.6006\n",
      "20 1000 300 534.9974\n",
      "21 1000 100 504.1861\n",
      "22 1000 100 533.1570\n",
      "23 1000 100 530.9940\n",
      "24 1000 100 495.8332\n",
      "25 1000 100 502.7871\n",
      "26 1000 100 527.4587\n",
      "27 1000 100 535.4761\n",
      "28 1000 100 541.9103\n",
      "29 1000 100 532.5662\n",
      "30 1000 100 521.0753\n",
      "31  600 600 521.1189\n",
      "32  600 600 499.8277\n",
      "33  600 600 502.8821\n",
      "34  600 600 558.2315\n",
      "35  600 600 530.5894\n",
      "36  600 600 501.0002\n",
      "37  600 600 502.3748\n",
      "38  600 600 516.9139\n",
      "39  600 600 524.2314\n",
      "40  600 600 526.3322\n",
      "41  600 300 550.9348\n",
      "42  600 300 532.7228\n",
      "43  600 300 534.4870\n",
      "44  600 300 524.5808\n",
      "45  600 300 498.7718\n",
      "46  600 300 538.0173\n",
      "47  600 300 511.2904\n",
      "48  600 300 536.2647\n",
      "49  600 300 491.3099\n",
      "50  600 300 527.2883\n",
      "51  600 100 506.8534\n",
      "52  600 100 539.3347\n",
      "53  600 100 517.4697\n",
      "54  600 100 545.3469\n",
      "55  600 100 561.3220\n",
      "56  600 100 508.3368\n",
      "57  600 100 509.7309\n",
      "58  600 100 525.8041\n",
      "59  600 100 502.5951\n",
      "60  600 100 532.2577\n",
      "61  300 600 516.3524\n",
      "62  300 600 515.9083\n",
      "63  300 600 524.8038\n",
      "64  300 600 533.8266\n",
      "65  300 600 517.5534\n",
      "66  300 600 570.2365\n",
      "67  300 600 527.2064\n",
      "68  300 600 516.4905\n",
      "69  300 600 521.4743\n",
      "70  300 600 541.8870\n",
      "71  300 300 533.1742\n",
      "72  300 300 554.4225\n",
      "73  300 300 521.2955\n",
      "74  300 300 524.4658\n",
      "75  300 300 526.9720\n",
      "76  300 300 491.4673\n",
      "77  300 300 540.2304\n",
      "78  300 300 540.9262\n",
      "79  300 300 554.4995\n",
      "80  300 300 546.1260\n",
      "81  300 100 516.7601\n",
      "82  300 100 506.5412\n",
      "83  300 100 537.0604\n",
      "84  300 100 529.3482\n",
      "85  300 100 546.0444\n",
      "86  300 100 527.3393\n",
      "87  300 100 533.3923\n",
      "88  300 100 536.0729\n",
      "89  300 100 538.5832\n",
      "90  300 100 530.2027\n"
     ]
    }
   ],
   "source": [
    "print(\"Individual results on each trial given particular parameters\")\n",
    "print(each_result)"
   ]
  },
  {
   "cell_type": "markdown",
   "metadata": {},
   "source": [
    "We can observe that the MSE varies a bit given the validation set for each hyperparameter combination."
   ]
  },
  {
   "cell_type": "code",
   "execution_count": 76,
   "metadata": {},
   "outputs": [
    {
     "name": "stdout",
     "output_type": "stream",
     "text": [
      "[1] \"Mean MSE for each configuration\"\n",
      "    N1  N2      MSE\n",
      "1 1000 600 531.7901\n",
      "2 1000 300 527.9217\n",
      "3 1000 100 522.5444\n",
      "4  600 600 518.3502\n",
      "5  600 300 524.5668\n",
      "6  600 100 524.9051\n",
      "7  300 600 528.5739\n",
      "8  300 300 533.3579\n",
      "9  300 100 530.1345\n"
     ]
    },
    {
     "data": {
      "image/png": "[encoded data removed]",
      "text/plain": [
       "Plot with title \"Variances given validation split\""
      ]
     },
     "metadata": {
      "image/png": {
       "height": 420,
       "width": 420
      }
     },
     "output_type": "display_data"
    }
   ],
   "source": [
    "print(\"Mean MSE for each configuration\")\n",
    "print(mean_MSE)\n",
    "p <- each_result$MSE**0.5\n",
    "vars <- data.frame(thou_6 = p[1:10], thou_3 = p[11:20], thou_1 = p[21:30],\n",
    "                     six_6 = p[31:40], six_3 = p[41:50], six_1 = p[51:60],\n",
    "                     three_6 = p[61:70], three_3 = p[71:80], p = p[81:90])\n",
    "boxplot(vars, ylab = \"RMSE\",  col = 'green', las = 2)\n",
    "title('Variances given validation split')\n",
    "grid(12, lw = 2)"
   ]
  },
  {
   "cell_type": "markdown",
   "metadata": {},
   "source": [
    "We observe that the variance due to the validation split (early stopping) is much smaller than the variance when cross-validating over different training sets, but might be high enough to bias model selection (as the cross-validation was not very conclusive), and play a role when evaluating on the final test set. \n",
    "\n",
    "It also illustrate that the methods can indeed give pretty bad results on particular splits (mean RMSE around 23)."
   ]
  }
 ],
 "metadata": {
  "kernelspec": {
   "display_name": "R",
   "language": "R",
   "name": "ir"
  },
  "language_info": {
   "codemirror_mode": "r",
   "file_extension": ".r",
   "mimetype": "text/x-r-source",
   "name": "R",
   "pygments_lexer": "r",
   "version": "3.6.3"
  }
 },
 "nbformat": 4,
 "nbformat_minor": 4
}
